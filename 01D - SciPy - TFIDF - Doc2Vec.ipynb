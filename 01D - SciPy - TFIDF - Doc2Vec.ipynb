{
 "cells": [
  {
   "cell_type": "markdown",
   "metadata": {},
   "source": [
    "# 5.  MSCognitiveServices API"
   ]
  },
  {
   "cell_type": "code",
   "execution_count": null,
   "metadata": {
    "collapsed": false
   },
   "outputs": [
    {
     "name": "stdout",
     "output_type": "stream",
     "text": [
      "(1.0, 'I like this')\n",
      "(0.0, 'This is incredibly bad')\n"
     ]
    }
   ],
   "source": [
    "import http.client\n",
    "import urllib.request\n",
    "import urllib.parse\n",
    "import urllib.error\n",
    "import base64\n",
    "import json\n",
    "from gensim import utils\n",
    "\n",
    "# Fill in\n",
    "ACC_KEY = \"????????????????????????????\"\n",
    "\n",
    "\n",
    "class MSCognitiveServices():\n",
    "    def __init__(self, subscription_key):\n",
    "        if isinstance(subscription_key, str):\n",
    "            self.skey = subscription_key\n",
    "            self.sample = [\"I like this\", \"This is incredibly bad\"]\n",
    "        else:\n",
    "            raise Exception(\"Key should be a string, e.g. 2ba4...\")\n",
    "\n",
    "    def send_req(self, req_list):\n",
    "        if not isinstance(req_list, list):\n",
    "            raise Exception(\"Supply a list with fewer than 100 elements\")\n",
    "            \n",
    "        headers = {'Content-Type': 'application/json', \n",
    "                   'Ocp-Apim-Subscription-Key':'%s' % self.skey}\n",
    "\n",
    "        try:\n",
    "            documents = [{'id': no, 'text': req} for no, req in enumerate(req_list)]\n",
    "            request_str = '{\"documents\":' + json.dumps(documents) + '}'\n",
    "            conn = http.client.HTTPSConnection('westus.api.cognitive.microsoft.com')\n",
    "            conn.request('POST', '/text/analytics/v2.0/sentiment', request_str, headers)\n",
    "            response = conn.getresponse().read()\n",
    "            data = json.loads(response.decode('utf-8'))\n",
    "            out = [float(row['score'] > 0.5) for row in data['documents']]\n",
    "            conn.close()\n",
    "            return out\n",
    "        except Exception as e:\n",
    "            print(e)\n",
    "        return [None] * len(req_list)\n",
    "\n",
    "    def run_example(self):\n",
    "        for x in zip(self.send_req(self.sample), self.sample):\n",
    "            print(x)\n",
    "\n",
    "\n",
    "msSenti = MSCognitiveServices(ACC_KEY)\n",
    "msSenti.run_example()"
   ]
  },
  {
   "cell_type": "code",
   "execution_count": null,
   "metadata": {
    "collapsed": false
   },
   "outputs": [],
   "source": [
    "SUBSAMPLE = 50000  # will be 100,000 total\n",
    "def file_to_list(fname, lim):\n",
    "    with utils.smart_open(fname) as f:\n",
    "        i = 1\n",
    "        for rev in f:\n",
    "            yield rev\n",
    "            i+=1\n",
    "            if i > lim:\n",
    "                return   \n",
    "                       \n",
    "# Data to test MS\n",
    "good_reviews = []\n",
    "bad_reviews = []\n",
    "\n",
    "for f in ['test_good_reviews.txt',\n",
    "          'test_bad_reviews.txt']:\n",
    "    for review in file_to_list(f, SUBSAMPLE):\n",
    "        if \"good\" in f:\n",
    "            good_reviews.append(utils.to_unicode(review))\n",
    "        elif \"bad\" in f:\n",
    "            bad_reviews.append(utils.to_unicode(review))\n",
    "        else:\n",
    "            raise Exception\n",
    "\n",
    "# Chunk into a list of lists for speed\n",
    "counter = 0\n",
    "good_scores = []\n",
    "for r in (good_reviews[x:x+100] for x in range(0, len(good_reviews), 100)):\n",
    "    good_scores.extend(msSenti.send_req(r))\n",
    "    counter += len(r)\n",
    "    #print(counter)\n",
    "    \n",
    "bad_scores = []\n",
    "for r in (bad_reviews[x:x+100] for x in range(0, len(bad_reviews), 100)):\n",
    "    bad_scores.extend(msSenti.send_req(r))   \n",
    "    counter += len(r)\n",
    "    #print(counter)\n",
    "    \n",
    "# Accuracy\n",
    "acc = (good_scores.count(1.0) + bad_scores.count(0.0))/(SUBSAMPLE*2)\n",
    "acc  # 0.7925\n",
    "\n",
    "# Domain specific knowledge? Test on IMDB?"
   ]
  }
 ],
 "metadata": {
  "anaconda-cloud": {},
  "kernelspec": {
   "display_name": "Python [Root]",
   "language": "python",
   "name": "Python [Root]"
  },
  "language_info": {
   "codemirror_mode": {
    "name": "ipython",
    "version": 3
   },
   "file_extension": ".py",
   "mimetype": "text/x-python",
   "name": "python",
   "nbconvert_exporter": "python",
   "pygments_lexer": "ipython3",
   "version": "3.5.2"
  }
 },
 "nbformat": 4,
 "nbformat_minor": 0
}
