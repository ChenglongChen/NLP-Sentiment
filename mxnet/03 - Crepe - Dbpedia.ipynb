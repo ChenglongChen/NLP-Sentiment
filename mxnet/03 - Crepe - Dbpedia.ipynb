{
 "cells": [
  {
   "cell_type": "code",
   "execution_count": 1,
   "metadata": {
    "collapsed": false
   },
   "outputs": [
    {
     "data": {
      "text/plain": [
       "'\\nSUMMARY:\\nDbpedia 14 class/topic classification\\n\\nAccuracy: X\\nTime per Epoch: X seconds = X rev/s\\nTotal time: X*10 = X min = X hours\\nTrain size = 2,097,152\\nTest size = 233,016\\n\\nDETAILS:\\nAttempt to replicate crepe model using MXNET:\\nhttps://github.com/zhangxiangxiao/Crepe\\n\\nThis uses an efficient numpy array (dtype=bool)\\nto hold all data in RAM. \\n\\nRun on 3 GPUs (Tesla K80) with batch=128*16*3\\nPeak RAM: X\\n'"
      ]
     },
     "execution_count": 1,
     "metadata": {},
     "output_type": "execute_result"
    }
   ],
   "source": [
    "\"\"\"\n",
    "SUMMARY:\n",
    "Dbpedia 14 class/topic classification\n",
    "\n",
    "Accuracy: X\n",
    "Time per Epoch: X seconds = X rev/s\n",
    "Total time: X*10 = X min = X hours\n",
    "Train size = 560,000 \n",
    "Test size = 70,000\n",
    "\n",
    "DETAILS:\n",
    "Attempt to replicate crepe model using MXNET:\n",
    "https://github.com/zhangxiangxiao/Crepe\n",
    "\n",
    "This uses an efficient numpy array (dtype=bool)\n",
    "to hold all data in RAM. \n",
    "\n",
    "Run on 3 GPUs (Tesla K80) with batch=128*16*3\n",
    "Peak RAM: X\n",
    "\"\"\""
   ]
  },
  {
   "cell_type": "code",
   "execution_count": 2,
   "metadata": {
    "collapsed": true
   },
   "outputs": [],
   "source": [
    "%matplotlib inline\n",
    "import numpy as np\n",
    "import pickle\n",
    "import pandas as pd\n",
    "import mxnet as mx\n",
    "import wget\n",
    "import time\n",
    "import os.path\n",
    "import math\n",
    "import matplotlib.pyplot as plt\n",
    "import logging"
   ]
  },
  {
   "cell_type": "code",
   "execution_count": 26,
   "metadata": {
    "collapsed": true
   },
   "outputs": [],
   "source": [
    "AZ_ACC = \"amazonsentimenik\"\n",
    "AZ_CONTAINER = \"textclassificationdatasets\"\n",
    "\n",
    "ALPHABET = list(\"abcdefghijklmnopqrstuvwxyz0123456789-,;.!?:'\\\"/\\\\|_@#$%^&*~`+ =<>()[]{}\")\n",
    "FEATURE_LEN = 1014\n",
    "BATCH_SIZE = 128*16*3\n",
    "NUM_FILTERS = 256\n",
    "DATA_SHAPE = (BATCH_SIZE, 1, FEATURE_LEN, len(ALPHABET))\n",
    "\n",
    "ctx = [mx.gpu(0), mx.gpu(1), mx.gpu(2)]\n",
    "EPOCHS = 10\n",
    "SD = 0.05  # std for gaussian distribution\n",
    "NOUTPUT = 14  # Classes\n",
    "INITY = mx.init.Normal(sigma=SD)\n",
    "LR = 0.01\n",
    "MOMENTUM = 0.9\n",
    "WDECAY = 0.00001"
   ]
  },
  {
   "cell_type": "code",
   "execution_count": 4,
   "metadata": {
    "collapsed": true
   },
   "outputs": [],
   "source": [
    "# logging\n",
    "logger = logging.getLogger()\n",
    "fhandler = logging.FileHandler(filename='crepe_dbp.log', mode='a')\n",
    "formatter = logging.Formatter('%(asctime)s - %(name)s - %(levelname)s - %(message)s')\n",
    "fhandler.setFormatter(formatter)\n",
    "logger.addHandler(fhandler)\n",
    "logger.setLevel(logging.DEBUG)"
   ]
  },
  {
   "cell_type": "code",
   "execution_count": 5,
   "metadata": {
    "collapsed": true
   },
   "outputs": [],
   "source": [
    "def download_file(url):\n",
    "    # Create file-name\n",
    "    local_filename = url.split('/')[-1]\n",
    "    if os.path.isfile(local_filename):\n",
    "        pass\n",
    "        # print(\"The file %s already exist in the current directory\\n\" % local_filename)\n",
    "    else:\n",
    "        # Download\n",
    "        print(\"downloading ...\\n\")\n",
    "        wget.download(url)\n",
    "        print('\\nsaved data')"
   ]
  },
  {
   "cell_type": "code",
   "execution_count": 6,
   "metadata": {
    "collapsed": true
   },
   "outputs": [],
   "source": [
    "def load_data_frame(infile, shuffle = False):\n",
    "    print(\"processing data frame: %s\" % infile)\n",
    "    # Get data from windows blob\n",
    "    download_file('https://%s.blob.core.windows.net/%s/%s' % (AZ_ACC, AZ_CONTAINER, infile))\n",
    "        # load data into dataframe\n",
    "    df = pd.read_csv(infile,\n",
    "                     header=None,\n",
    "                     names=['sentiment', 'summary', 'text'])\n",
    "    # concat summary, review; trim to 1014 char; reverse; lower\n",
    "    df['rev'] = df.apply(lambda x: \"%s %s\" % (x['summary'], x['text']), axis=1)\n",
    "    df.rev = df.rev.str[:FEATURE_LEN].str[::-1].str.lower()\n",
    "    # store class as nparray\n",
    "    df.sentiment -= 1\n",
    "    y_split = np.asarray(df.sentiment, dtype='bool')\n",
    "    # drop columns\n",
    "    df.drop(['text', 'summary', 'sentiment'], axis=1, inplace=True)\n",
    "    if shuffle:\n",
    "        df = df.sample(frac=1).reset_index(drop=True)\n",
    "    # Dictionary to create character vectors\n",
    "    character_hash = pd.DataFrame(np.identity(len(ALPHABET), dtype='bool'), columns=ALPHABET)\n",
    "    print(\"finished processing data frame: %s\" % infile)\n",
    "    print(\"data contains %d obs\" % df.shape[0])\n",
    "    batch_size = df.shape[0]\n",
    "    # Create encoding\n",
    "    X_split = np.zeros([batch_size, 1, FEATURE_LEN, len(ALPHABET)], dtype='bool')\n",
    "    # Main loop\n",
    "    for ti, tx in enumerate(df.rev):\n",
    "        if (ti+1) % (100*1000) == 0:\n",
    "            print(\"Processed: \", ti+1)\n",
    "        chars = list(tx)\n",
    "        for ci, ch in enumerate(chars):\n",
    "            if ch in ALPHABET:\n",
    "                X_split[ti % batch_size][0][ci] = np.array(character_hash[ch], dtype='bool')\n",
    "                \n",
    "    # Return as a DataBatch\n",
    "    #return DataBatch(data=[mx.nd.array(X_split)],\n",
    "    #                 label=[mx.nd.array(y_split[ti + 1 - batch_size:ti + 1])])\n",
    "    return X_split, y_split"
   ]
  },
  {
   "cell_type": "code",
   "execution_count": 7,
   "metadata": {
    "collapsed": true
   },
   "outputs": [],
   "source": [
    "def create_crepe():\n",
    "    \"\"\"\n",
    "    Replicating: https://github.com/zhangxiangxiao/Crepe/blob/master/train/config.lua\n",
    "    \"\"\"\n",
    "    input_x = mx.sym.Variable('data')  # placeholder for input\n",
    "    input_y = mx.sym.Variable('softmax_label')  # placeholder for output\n",
    "    # 1. alphabet x 1014\n",
    "    conv1 = mx.symbol.Convolution(\n",
    "        data=input_x, kernel=(7, 69), num_filter=NUM_FILTERS)\n",
    "    relu1 = mx.symbol.Activation(\n",
    "        data=conv1, act_type=\"relu\")\n",
    "    pool1 = mx.symbol.Pooling(\n",
    "        data=relu1, pool_type=\"max\", kernel=(3, 1), stride=(3, 1))\n",
    "    # 2. 336 x 256\n",
    "    conv2 = mx.symbol.Convolution(\n",
    "        data=pool1, kernel=(7, 1), num_filter=NUM_FILTERS)\n",
    "    relu2 = mx.symbol.Activation(\n",
    "        data=conv2, act_type=\"relu\")\n",
    "    pool2 = mx.symbol.Pooling(\n",
    "        data=relu2, pool_type=\"max\", kernel=(3, 1), stride=(3, 1))\n",
    "    # 3. 110 x 256\n",
    "    conv3 = mx.symbol.Convolution(\n",
    "        data=pool2, kernel=(3, 1), num_filter=NUM_FILTERS)\n",
    "    relu3 = mx.symbol.Activation(\n",
    "        data=conv3, act_type=\"relu\")\n",
    "    # 4. 108 x 256\n",
    "    conv4 = mx.symbol.Convolution(\n",
    "        data=relu3, kernel=(3, 1), num_filter=NUM_FILTERS)\n",
    "    relu4 = mx.symbol.Activation(\n",
    "        data=conv4, act_type=\"relu\")\n",
    "    # 5. 106 x 256\n",
    "    conv5 = mx.symbol.Convolution(\n",
    "        data=relu4, kernel=(3, 1), num_filter=NUM_FILTERS)\n",
    "    relu5 = mx.symbol.Activation(\n",
    "        data=conv5, act_type=\"relu\")\n",
    "    # 6. 104 x 256\n",
    "    conv6 = mx.symbol.Convolution(\n",
    "        data=relu5, kernel=(3, 1), num_filter=NUM_FILTERS)\n",
    "    relu6 = mx.symbol.Activation(\n",
    "        data=conv6, act_type=\"relu\")\n",
    "    pool6 = mx.symbol.Pooling(\n",
    "        data=relu6, pool_type=\"max\", kernel=(3, 1), stride=(3, 1))\n",
    "    # 34 x 256\n",
    "    flatten = mx.symbol.Flatten(data=pool6)\n",
    "    # 7.  8704\n",
    "    fc1 = mx.symbol.FullyConnected(\n",
    "        data=flatten, num_hidden=1024)\n",
    "    act_fc1 = mx.symbol.Activation(\n",
    "        data=fc1, act_type=\"relu\")\n",
    "    drop1 = mx.sym.Dropout(act_fc1, p=0.5)\n",
    "    # 8. 1024\n",
    "    fc2 = mx.symbol.FullyConnected(\n",
    "        data=drop1, num_hidden=1024)\n",
    "    act_fc2 = mx.symbol.Activation(\n",
    "        data=fc2, act_type=\"relu\")\n",
    "    drop2 = mx.sym.Dropout(act_fc2, p=0.5)\n",
    "    # 9. 1024\n",
    "    fc3 = mx.symbol.FullyConnected(\n",
    "        data=drop2, num_hidden=NOUTPUT)\n",
    "    crepe = mx.symbol.SoftmaxOutput(\n",
    "        data=fc3, label=input_y, name=\"softmax\")\n",
    "    return crepe"
   ]
  },
  {
   "cell_type": "code",
   "execution_count": 8,
   "metadata": {
    "collapsed": false,
    "scrolled": false
   },
   "outputs": [
    {
     "data": {
      "image/svg+xml": [
       "<?xml version=\"1.0\" encoding=\"UTF-8\" standalone=\"no\"?>\r\n",
       "<!DOCTYPE svg PUBLIC \"-//W3C//DTD SVG 1.1//EN\"\r\n",
       " \"http://www.w3.org/Graphics/SVG/1.1/DTD/svg11.dtd\">\r\n",
       "<!-- Generated by graphviz version 2.38.0 (20140413.2041)\r\n",
       " -->\r\n",
       "<!-- Title: plot Pages: 1 -->\r\n",
       "<svg width=\"102pt\" height=\"2228pt\"\r\n",
       " viewBox=\"0.00 0.00 102.00 2228.00\" xmlns=\"http://www.w3.org/2000/svg\" xmlns:xlink=\"http://www.w3.org/1999/xlink\">\r\n",
       "<g id=\"graph0\" class=\"graph\" transform=\"scale(1 1) rotate(0) translate(4 2224)\">\r\n",
       "<title>plot</title>\r\n",
       "<polygon fill=\"white\" stroke=\"none\" points=\"-4,4 -4,-2224 98,-2224 98,4 -4,4\"/>\r\n",
       "<!-- convolution0 -->\r\n",
       "<g id=\"node1\" class=\"node\"><title>convolution0</title>\r\n",
       "<polygon fill=\"#fb8072\" stroke=\"black\" points=\"94,-58 -7.10543e-015,-58 -7.10543e-015,-0 94,-0 94,-58\"/>\r\n",
       "<text text-anchor=\"middle\" x=\"47\" y=\"-32.8\" font-family=\"Times New Roman,serif\" font-size=\"14.00\">Convolution</text>\r\n",
       "<text text-anchor=\"middle\" x=\"47\" y=\"-17.8\" font-family=\"Times New Roman,serif\" font-size=\"14.00\">7x69/1, 256</text>\r\n",
       "</g>\r\n",
       "<!-- activation0 -->\r\n",
       "<g id=\"node2\" class=\"node\"><title>activation0</title>\r\n",
       "<polygon fill=\"#ffffb3\" stroke=\"black\" points=\"94,-152 -7.10543e-015,-152 -7.10543e-015,-94 94,-94 94,-152\"/>\r\n",
       "<text text-anchor=\"middle\" x=\"47\" y=\"-126.8\" font-family=\"Times New Roman,serif\" font-size=\"14.00\">Activation</text>\r\n",
       "<text text-anchor=\"middle\" x=\"47\" y=\"-111.8\" font-family=\"Times New Roman,serif\" font-size=\"14.00\">relu</text>\r\n",
       "</g>\r\n",
       "<!-- activation0&#45;&gt;convolution0 -->\r\n",
       "<g id=\"edge1\" class=\"edge\"><title>activation0&#45;&gt;convolution0</title>\r\n",
       "<path fill=\"none\" stroke=\"black\" d=\"M47,-83.7443C47,-75.2043 47,-66.2977 47,-58.2479\"/>\r\n",
       "<polygon fill=\"black\" stroke=\"black\" points=\"47,-93.8971 42.5001,-83.897 47,-88.8971 47.0001,-83.8971 47.0001,-83.8971 47.0001,-83.8971 47,-88.8971 51.5001,-83.8971 47,-93.8971 47,-93.8971\"/>\r\n",
       "</g>\r\n",
       "<!-- pooling0 -->\r\n",
       "<g id=\"node3\" class=\"node\"><title>pooling0</title>\r\n",
       "<polygon fill=\"#80b1d3\" stroke=\"black\" points=\"94,-246 -7.10543e-015,-246 -7.10543e-015,-188 94,-188 94,-246\"/>\r\n",
       "<text text-anchor=\"middle\" x=\"47\" y=\"-220.8\" font-family=\"Times New Roman,serif\" font-size=\"14.00\">Pooling</text>\r\n",
       "<text text-anchor=\"middle\" x=\"47\" y=\"-205.8\" font-family=\"Times New Roman,serif\" font-size=\"14.00\">max, 3x1/3</text>\r\n",
       "</g>\r\n",
       "<!-- pooling0&#45;&gt;activation0 -->\r\n",
       "<g id=\"edge2\" class=\"edge\"><title>pooling0&#45;&gt;activation0</title>\r\n",
       "<path fill=\"none\" stroke=\"black\" d=\"M47,-177.744C47,-169.204 47,-160.298 47,-152.248\"/>\r\n",
       "<polygon fill=\"black\" stroke=\"black\" points=\"47,-187.897 42.5001,-177.897 47,-182.897 47.0001,-177.897 47.0001,-177.897 47.0001,-177.897 47,-182.897 51.5001,-177.897 47,-187.897 47,-187.897\"/>\r\n",
       "</g>\r\n",
       "<!-- convolution1 -->\r\n",
       "<g id=\"node4\" class=\"node\"><title>convolution1</title>\r\n",
       "<polygon fill=\"#fb8072\" stroke=\"black\" points=\"94,-340 -7.10543e-015,-340 -7.10543e-015,-282 94,-282 94,-340\"/>\r\n",
       "<text text-anchor=\"middle\" x=\"47\" y=\"-314.8\" font-family=\"Times New Roman,serif\" font-size=\"14.00\">Convolution</text>\r\n",
       "<text text-anchor=\"middle\" x=\"47\" y=\"-299.8\" font-family=\"Times New Roman,serif\" font-size=\"14.00\">7x1/1, 256</text>\r\n",
       "</g>\r\n",
       "<!-- convolution1&#45;&gt;pooling0 -->\r\n",
       "<g id=\"edge3\" class=\"edge\"><title>convolution1&#45;&gt;pooling0</title>\r\n",
       "<path fill=\"none\" stroke=\"black\" d=\"M47,-271.744C47,-263.204 47,-254.298 47,-246.248\"/>\r\n",
       "<polygon fill=\"black\" stroke=\"black\" points=\"47,-281.897 42.5001,-271.897 47,-276.897 47.0001,-271.897 47.0001,-271.897 47.0001,-271.897 47,-276.897 51.5001,-271.897 47,-281.897 47,-281.897\"/>\r\n",
       "</g>\r\n",
       "<!-- activation1 -->\r\n",
       "<g id=\"node5\" class=\"node\"><title>activation1</title>\r\n",
       "<polygon fill=\"#ffffb3\" stroke=\"black\" points=\"94,-434 -7.10543e-015,-434 -7.10543e-015,-376 94,-376 94,-434\"/>\r\n",
       "<text text-anchor=\"middle\" x=\"47\" y=\"-408.8\" font-family=\"Times New Roman,serif\" font-size=\"14.00\">Activation</text>\r\n",
       "<text text-anchor=\"middle\" x=\"47\" y=\"-393.8\" font-family=\"Times New Roman,serif\" font-size=\"14.00\">relu</text>\r\n",
       "</g>\r\n",
       "<!-- activation1&#45;&gt;convolution1 -->\r\n",
       "<g id=\"edge4\" class=\"edge\"><title>activation1&#45;&gt;convolution1</title>\r\n",
       "<path fill=\"none\" stroke=\"black\" d=\"M47,-365.744C47,-357.204 47,-348.298 47,-340.248\"/>\r\n",
       "<polygon fill=\"black\" stroke=\"black\" points=\"47,-375.897 42.5001,-365.897 47,-370.897 47.0001,-365.897 47.0001,-365.897 47.0001,-365.897 47,-370.897 51.5001,-365.897 47,-375.897 47,-375.897\"/>\r\n",
       "</g>\r\n",
       "<!-- pooling1 -->\r\n",
       "<g id=\"node6\" class=\"node\"><title>pooling1</title>\r\n",
       "<polygon fill=\"#80b1d3\" stroke=\"black\" points=\"94,-528 -7.10543e-015,-528 -7.10543e-015,-470 94,-470 94,-528\"/>\r\n",
       "<text text-anchor=\"middle\" x=\"47\" y=\"-502.8\" font-family=\"Times New Roman,serif\" font-size=\"14.00\">Pooling</text>\r\n",
       "<text text-anchor=\"middle\" x=\"47\" y=\"-487.8\" font-family=\"Times New Roman,serif\" font-size=\"14.00\">max, 3x1/3</text>\r\n",
       "</g>\r\n",
       "<!-- pooling1&#45;&gt;activation1 -->\r\n",
       "<g id=\"edge5\" class=\"edge\"><title>pooling1&#45;&gt;activation1</title>\r\n",
       "<path fill=\"none\" stroke=\"black\" d=\"M47,-459.744C47,-451.204 47,-442.298 47,-434.248\"/>\r\n",
       "<polygon fill=\"black\" stroke=\"black\" points=\"47,-469.897 42.5001,-459.897 47,-464.897 47.0001,-459.897 47.0001,-459.897 47.0001,-459.897 47,-464.897 51.5001,-459.897 47,-469.897 47,-469.897\"/>\r\n",
       "</g>\r\n",
       "<!-- convolution2 -->\r\n",
       "<g id=\"node7\" class=\"node\"><title>convolution2</title>\r\n",
       "<polygon fill=\"#fb8072\" stroke=\"black\" points=\"94,-622 -7.10543e-015,-622 -7.10543e-015,-564 94,-564 94,-622\"/>\r\n",
       "<text text-anchor=\"middle\" x=\"47\" y=\"-596.8\" font-family=\"Times New Roman,serif\" font-size=\"14.00\">Convolution</text>\r\n",
       "<text text-anchor=\"middle\" x=\"47\" y=\"-581.8\" font-family=\"Times New Roman,serif\" font-size=\"14.00\">3x1/1, 256</text>\r\n",
       "</g>\r\n",
       "<!-- convolution2&#45;&gt;pooling1 -->\r\n",
       "<g id=\"edge6\" class=\"edge\"><title>convolution2&#45;&gt;pooling1</title>\r\n",
       "<path fill=\"none\" stroke=\"black\" d=\"M47,-553.744C47,-545.204 47,-536.298 47,-528.248\"/>\r\n",
       "<polygon fill=\"black\" stroke=\"black\" points=\"47,-563.897 42.5001,-553.897 47,-558.897 47.0001,-553.897 47.0001,-553.897 47.0001,-553.897 47,-558.897 51.5001,-553.897 47,-563.897 47,-563.897\"/>\r\n",
       "</g>\r\n",
       "<!-- activation2 -->\r\n",
       "<g id=\"node8\" class=\"node\"><title>activation2</title>\r\n",
       "<polygon fill=\"#ffffb3\" stroke=\"black\" points=\"94,-716 -7.10543e-015,-716 -7.10543e-015,-658 94,-658 94,-716\"/>\r\n",
       "<text text-anchor=\"middle\" x=\"47\" y=\"-690.8\" font-family=\"Times New Roman,serif\" font-size=\"14.00\">Activation</text>\r\n",
       "<text text-anchor=\"middle\" x=\"47\" y=\"-675.8\" font-family=\"Times New Roman,serif\" font-size=\"14.00\">relu</text>\r\n",
       "</g>\r\n",
       "<!-- activation2&#45;&gt;convolution2 -->\r\n",
       "<g id=\"edge7\" class=\"edge\"><title>activation2&#45;&gt;convolution2</title>\r\n",
       "<path fill=\"none\" stroke=\"black\" d=\"M47,-647.744C47,-639.204 47,-630.298 47,-622.248\"/>\r\n",
       "<polygon fill=\"black\" stroke=\"black\" points=\"47,-657.897 42.5001,-647.897 47,-652.897 47.0001,-647.897 47.0001,-647.897 47.0001,-647.897 47,-652.897 51.5001,-647.897 47,-657.897 47,-657.897\"/>\r\n",
       "</g>\r\n",
       "<!-- convolution3 -->\r\n",
       "<g id=\"node9\" class=\"node\"><title>convolution3</title>\r\n",
       "<polygon fill=\"#fb8072\" stroke=\"black\" points=\"94,-810 -7.10543e-015,-810 -7.10543e-015,-752 94,-752 94,-810\"/>\r\n",
       "<text text-anchor=\"middle\" x=\"47\" y=\"-784.8\" font-family=\"Times New Roman,serif\" font-size=\"14.00\">Convolution</text>\r\n",
       "<text text-anchor=\"middle\" x=\"47\" y=\"-769.8\" font-family=\"Times New Roman,serif\" font-size=\"14.00\">3x1/1, 256</text>\r\n",
       "</g>\r\n",
       "<!-- convolution3&#45;&gt;activation2 -->\r\n",
       "<g id=\"edge8\" class=\"edge\"><title>convolution3&#45;&gt;activation2</title>\r\n",
       "<path fill=\"none\" stroke=\"black\" d=\"M47,-741.744C47,-733.204 47,-724.298 47,-716.248\"/>\r\n",
       "<polygon fill=\"black\" stroke=\"black\" points=\"47,-751.897 42.5001,-741.897 47,-746.897 47.0001,-741.897 47.0001,-741.897 47.0001,-741.897 47,-746.897 51.5001,-741.897 47,-751.897 47,-751.897\"/>\r\n",
       "</g>\r\n",
       "<!-- activation3 -->\r\n",
       "<g id=\"node10\" class=\"node\"><title>activation3</title>\r\n",
       "<polygon fill=\"#ffffb3\" stroke=\"black\" points=\"94,-904 -7.10543e-015,-904 -7.10543e-015,-846 94,-846 94,-904\"/>\r\n",
       "<text text-anchor=\"middle\" x=\"47\" y=\"-878.8\" font-family=\"Times New Roman,serif\" font-size=\"14.00\">Activation</text>\r\n",
       "<text text-anchor=\"middle\" x=\"47\" y=\"-863.8\" font-family=\"Times New Roman,serif\" font-size=\"14.00\">relu</text>\r\n",
       "</g>\r\n",
       "<!-- activation3&#45;&gt;convolution3 -->\r\n",
       "<g id=\"edge9\" class=\"edge\"><title>activation3&#45;&gt;convolution3</title>\r\n",
       "<path fill=\"none\" stroke=\"black\" d=\"M47,-835.744C47,-827.204 47,-818.298 47,-810.248\"/>\r\n",
       "<polygon fill=\"black\" stroke=\"black\" points=\"47,-845.897 42.5001,-835.897 47,-840.897 47.0001,-835.897 47.0001,-835.897 47.0001,-835.897 47,-840.897 51.5001,-835.897 47,-845.897 47,-845.897\"/>\r\n",
       "</g>\r\n",
       "<!-- convolution4 -->\r\n",
       "<g id=\"node11\" class=\"node\"><title>convolution4</title>\r\n",
       "<polygon fill=\"#fb8072\" stroke=\"black\" points=\"94,-998 -7.10543e-015,-998 -7.10543e-015,-940 94,-940 94,-998\"/>\r\n",
       "<text text-anchor=\"middle\" x=\"47\" y=\"-972.8\" font-family=\"Times New Roman,serif\" font-size=\"14.00\">Convolution</text>\r\n",
       "<text text-anchor=\"middle\" x=\"47\" y=\"-957.8\" font-family=\"Times New Roman,serif\" font-size=\"14.00\">3x1/1, 256</text>\r\n",
       "</g>\r\n",
       "<!-- convolution4&#45;&gt;activation3 -->\r\n",
       "<g id=\"edge10\" class=\"edge\"><title>convolution4&#45;&gt;activation3</title>\r\n",
       "<path fill=\"none\" stroke=\"black\" d=\"M47,-929.744C47,-921.204 47,-912.298 47,-904.248\"/>\r\n",
       "<polygon fill=\"black\" stroke=\"black\" points=\"47,-939.897 42.5001,-929.897 47,-934.897 47.0001,-929.897 47.0001,-929.897 47.0001,-929.897 47,-934.897 51.5001,-929.897 47,-939.897 47,-939.897\"/>\r\n",
       "</g>\r\n",
       "<!-- activation4 -->\r\n",
       "<g id=\"node12\" class=\"node\"><title>activation4</title>\r\n",
       "<polygon fill=\"#ffffb3\" stroke=\"black\" points=\"94,-1092 -7.10543e-015,-1092 -7.10543e-015,-1034 94,-1034 94,-1092\"/>\r\n",
       "<text text-anchor=\"middle\" x=\"47\" y=\"-1066.8\" font-family=\"Times New Roman,serif\" font-size=\"14.00\">Activation</text>\r\n",
       "<text text-anchor=\"middle\" x=\"47\" y=\"-1051.8\" font-family=\"Times New Roman,serif\" font-size=\"14.00\">relu</text>\r\n",
       "</g>\r\n",
       "<!-- activation4&#45;&gt;convolution4 -->\r\n",
       "<g id=\"edge11\" class=\"edge\"><title>activation4&#45;&gt;convolution4</title>\r\n",
       "<path fill=\"none\" stroke=\"black\" d=\"M47,-1023.74C47,-1015.2 47,-1006.3 47,-998.248\"/>\r\n",
       "<polygon fill=\"black\" stroke=\"black\" points=\"47,-1033.9 42.5001,-1023.9 47,-1028.9 47.0001,-1023.9 47.0001,-1023.9 47.0001,-1023.9 47,-1028.9 51.5001,-1023.9 47,-1033.9 47,-1033.9\"/>\r\n",
       "</g>\r\n",
       "<!-- convolution5 -->\r\n",
       "<g id=\"node13\" class=\"node\"><title>convolution5</title>\r\n",
       "<polygon fill=\"#fb8072\" stroke=\"black\" points=\"94,-1186 -7.10543e-015,-1186 -7.10543e-015,-1128 94,-1128 94,-1186\"/>\r\n",
       "<text text-anchor=\"middle\" x=\"47\" y=\"-1160.8\" font-family=\"Times New Roman,serif\" font-size=\"14.00\">Convolution</text>\r\n",
       "<text text-anchor=\"middle\" x=\"47\" y=\"-1145.8\" font-family=\"Times New Roman,serif\" font-size=\"14.00\">3x1/1, 256</text>\r\n",
       "</g>\r\n",
       "<!-- convolution5&#45;&gt;activation4 -->\r\n",
       "<g id=\"edge12\" class=\"edge\"><title>convolution5&#45;&gt;activation4</title>\r\n",
       "<path fill=\"none\" stroke=\"black\" d=\"M47,-1117.74C47,-1109.2 47,-1100.3 47,-1092.25\"/>\r\n",
       "<polygon fill=\"black\" stroke=\"black\" points=\"47,-1127.9 42.5001,-1117.9 47,-1122.9 47.0001,-1117.9 47.0001,-1117.9 47.0001,-1117.9 47,-1122.9 51.5001,-1117.9 47,-1127.9 47,-1127.9\"/>\r\n",
       "</g>\r\n",
       "<!-- activation5 -->\r\n",
       "<g id=\"node14\" class=\"node\"><title>activation5</title>\r\n",
       "<polygon fill=\"#ffffb3\" stroke=\"black\" points=\"94,-1280 -7.10543e-015,-1280 -7.10543e-015,-1222 94,-1222 94,-1280\"/>\r\n",
       "<text text-anchor=\"middle\" x=\"47\" y=\"-1254.8\" font-family=\"Times New Roman,serif\" font-size=\"14.00\">Activation</text>\r\n",
       "<text text-anchor=\"middle\" x=\"47\" y=\"-1239.8\" font-family=\"Times New Roman,serif\" font-size=\"14.00\">relu</text>\r\n",
       "</g>\r\n",
       "<!-- activation5&#45;&gt;convolution5 -->\r\n",
       "<g id=\"edge13\" class=\"edge\"><title>activation5&#45;&gt;convolution5</title>\r\n",
       "<path fill=\"none\" stroke=\"black\" d=\"M47,-1211.74C47,-1203.2 47,-1194.3 47,-1186.25\"/>\r\n",
       "<polygon fill=\"black\" stroke=\"black\" points=\"47,-1221.9 42.5001,-1211.9 47,-1216.9 47.0001,-1211.9 47.0001,-1211.9 47.0001,-1211.9 47,-1216.9 51.5001,-1211.9 47,-1221.9 47,-1221.9\"/>\r\n",
       "</g>\r\n",
       "<!-- pooling2 -->\r\n",
       "<g id=\"node15\" class=\"node\"><title>pooling2</title>\r\n",
       "<polygon fill=\"#80b1d3\" stroke=\"black\" points=\"94,-1374 -7.10543e-015,-1374 -7.10543e-015,-1316 94,-1316 94,-1374\"/>\r\n",
       "<text text-anchor=\"middle\" x=\"47\" y=\"-1348.8\" font-family=\"Times New Roman,serif\" font-size=\"14.00\">Pooling</text>\r\n",
       "<text text-anchor=\"middle\" x=\"47\" y=\"-1333.8\" font-family=\"Times New Roman,serif\" font-size=\"14.00\">max, 3x1/3</text>\r\n",
       "</g>\r\n",
       "<!-- pooling2&#45;&gt;activation5 -->\r\n",
       "<g id=\"edge14\" class=\"edge\"><title>pooling2&#45;&gt;activation5</title>\r\n",
       "<path fill=\"none\" stroke=\"black\" d=\"M47,-1305.74C47,-1297.2 47,-1288.3 47,-1280.25\"/>\r\n",
       "<polygon fill=\"black\" stroke=\"black\" points=\"47,-1315.9 42.5001,-1305.9 47,-1310.9 47.0001,-1305.9 47.0001,-1305.9 47.0001,-1305.9 47,-1310.9 51.5001,-1305.9 47,-1315.9 47,-1315.9\"/>\r\n",
       "</g>\r\n",
       "<!-- flatten0 -->\r\n",
       "<g id=\"node16\" class=\"node\"><title>flatten0</title>\r\n",
       "<polygon fill=\"#fdb462\" stroke=\"black\" points=\"94,-1468 -7.10543e-015,-1468 -7.10543e-015,-1410 94,-1410 94,-1468\"/>\r\n",
       "<text text-anchor=\"middle\" x=\"47\" y=\"-1435.3\" font-family=\"Times New Roman,serif\" font-size=\"14.00\">Flatten</text>\r\n",
       "</g>\r\n",
       "<!-- flatten0&#45;&gt;pooling2 -->\r\n",
       "<g id=\"edge15\" class=\"edge\"><title>flatten0&#45;&gt;pooling2</title>\r\n",
       "<path fill=\"none\" stroke=\"black\" d=\"M47,-1399.74C47,-1391.2 47,-1382.3 47,-1374.25\"/>\r\n",
       "<polygon fill=\"black\" stroke=\"black\" points=\"47,-1409.9 42.5001,-1399.9 47,-1404.9 47.0001,-1399.9 47.0001,-1399.9 47.0001,-1399.9 47,-1404.9 51.5001,-1399.9 47,-1409.9 47,-1409.9\"/>\r\n",
       "</g>\r\n",
       "<!-- fullyconnected0 -->\r\n",
       "<g id=\"node17\" class=\"node\"><title>fullyconnected0</title>\r\n",
       "<polygon fill=\"#fb8072\" stroke=\"black\" points=\"94,-1562 -7.10543e-015,-1562 -7.10543e-015,-1504 94,-1504 94,-1562\"/>\r\n",
       "<text text-anchor=\"middle\" x=\"47\" y=\"-1536.8\" font-family=\"Times New Roman,serif\" font-size=\"14.00\">FullyConnected</text>\r\n",
       "<text text-anchor=\"middle\" x=\"47\" y=\"-1521.8\" font-family=\"Times New Roman,serif\" font-size=\"14.00\">1024</text>\r\n",
       "</g>\r\n",
       "<!-- fullyconnected0&#45;&gt;flatten0 -->\r\n",
       "<g id=\"edge16\" class=\"edge\"><title>fullyconnected0&#45;&gt;flatten0</title>\r\n",
       "<path fill=\"none\" stroke=\"black\" d=\"M47,-1493.74C47,-1485.2 47,-1476.3 47,-1468.25\"/>\r\n",
       "<polygon fill=\"black\" stroke=\"black\" points=\"47,-1503.9 42.5001,-1493.9 47,-1498.9 47.0001,-1493.9 47.0001,-1493.9 47.0001,-1493.9 47,-1498.9 51.5001,-1493.9 47,-1503.9 47,-1503.9\"/>\r\n",
       "</g>\r\n",
       "<!-- activation6 -->\r\n",
       "<g id=\"node18\" class=\"node\"><title>activation6</title>\r\n",
       "<polygon fill=\"#ffffb3\" stroke=\"black\" points=\"94,-1656 -7.10543e-015,-1656 -7.10543e-015,-1598 94,-1598 94,-1656\"/>\r\n",
       "<text text-anchor=\"middle\" x=\"47\" y=\"-1630.8\" font-family=\"Times New Roman,serif\" font-size=\"14.00\">Activation</text>\r\n",
       "<text text-anchor=\"middle\" x=\"47\" y=\"-1615.8\" font-family=\"Times New Roman,serif\" font-size=\"14.00\">relu</text>\r\n",
       "</g>\r\n",
       "<!-- activation6&#45;&gt;fullyconnected0 -->\r\n",
       "<g id=\"edge17\" class=\"edge\"><title>activation6&#45;&gt;fullyconnected0</title>\r\n",
       "<path fill=\"none\" stroke=\"black\" d=\"M47,-1587.74C47,-1579.2 47,-1570.3 47,-1562.25\"/>\r\n",
       "<polygon fill=\"black\" stroke=\"black\" points=\"47,-1597.9 42.5001,-1587.9 47,-1592.9 47.0001,-1587.9 47.0001,-1587.9 47.0001,-1587.9 47,-1592.9 51.5001,-1587.9 47,-1597.9 47,-1597.9\"/>\r\n",
       "</g>\r\n",
       "<!-- dropout0 -->\r\n",
       "<g id=\"node19\" class=\"node\"><title>dropout0</title>\r\n",
       "<polygon fill=\"#fccde5\" stroke=\"black\" points=\"94,-1750 -7.10543e-015,-1750 -7.10543e-015,-1692 94,-1692 94,-1750\"/>\r\n",
       "<text text-anchor=\"middle\" x=\"47\" y=\"-1717.3\" font-family=\"Times New Roman,serif\" font-size=\"14.00\">Dropout</text>\r\n",
       "</g>\r\n",
       "<!-- dropout0&#45;&gt;activation6 -->\r\n",
       "<g id=\"edge18\" class=\"edge\"><title>dropout0&#45;&gt;activation6</title>\r\n",
       "<path fill=\"none\" stroke=\"black\" d=\"M47,-1681.74C47,-1673.2 47,-1664.3 47,-1656.25\"/>\r\n",
       "<polygon fill=\"black\" stroke=\"black\" points=\"47,-1691.9 42.5001,-1681.9 47,-1686.9 47.0001,-1681.9 47.0001,-1681.9 47.0001,-1681.9 47,-1686.9 51.5001,-1681.9 47,-1691.9 47,-1691.9\"/>\r\n",
       "</g>\r\n",
       "<!-- fullyconnected1 -->\r\n",
       "<g id=\"node20\" class=\"node\"><title>fullyconnected1</title>\r\n",
       "<polygon fill=\"#fb8072\" stroke=\"black\" points=\"94,-1844 -7.10543e-015,-1844 -7.10543e-015,-1786 94,-1786 94,-1844\"/>\r\n",
       "<text text-anchor=\"middle\" x=\"47\" y=\"-1818.8\" font-family=\"Times New Roman,serif\" font-size=\"14.00\">FullyConnected</text>\r\n",
       "<text text-anchor=\"middle\" x=\"47\" y=\"-1803.8\" font-family=\"Times New Roman,serif\" font-size=\"14.00\">1024</text>\r\n",
       "</g>\r\n",
       "<!-- fullyconnected1&#45;&gt;dropout0 -->\r\n",
       "<g id=\"edge19\" class=\"edge\"><title>fullyconnected1&#45;&gt;dropout0</title>\r\n",
       "<path fill=\"none\" stroke=\"black\" d=\"M47,-1775.74C47,-1767.2 47,-1758.3 47,-1750.25\"/>\r\n",
       "<polygon fill=\"black\" stroke=\"black\" points=\"47,-1785.9 42.5001,-1775.9 47,-1780.9 47.0001,-1775.9 47.0001,-1775.9 47.0001,-1775.9 47,-1780.9 51.5001,-1775.9 47,-1785.9 47,-1785.9\"/>\r\n",
       "</g>\r\n",
       "<!-- activation7 -->\r\n",
       "<g id=\"node21\" class=\"node\"><title>activation7</title>\r\n",
       "<polygon fill=\"#ffffb3\" stroke=\"black\" points=\"94,-1938 -7.10543e-015,-1938 -7.10543e-015,-1880 94,-1880 94,-1938\"/>\r\n",
       "<text text-anchor=\"middle\" x=\"47\" y=\"-1912.8\" font-family=\"Times New Roman,serif\" font-size=\"14.00\">Activation</text>\r\n",
       "<text text-anchor=\"middle\" x=\"47\" y=\"-1897.8\" font-family=\"Times New Roman,serif\" font-size=\"14.00\">relu</text>\r\n",
       "</g>\r\n",
       "<!-- activation7&#45;&gt;fullyconnected1 -->\r\n",
       "<g id=\"edge20\" class=\"edge\"><title>activation7&#45;&gt;fullyconnected1</title>\r\n",
       "<path fill=\"none\" stroke=\"black\" d=\"M47,-1869.74C47,-1861.2 47,-1852.3 47,-1844.25\"/>\r\n",
       "<polygon fill=\"black\" stroke=\"black\" points=\"47,-1879.9 42.5001,-1869.9 47,-1874.9 47.0001,-1869.9 47.0001,-1869.9 47.0001,-1869.9 47,-1874.9 51.5001,-1869.9 47,-1879.9 47,-1879.9\"/>\r\n",
       "</g>\r\n",
       "<!-- dropout1 -->\r\n",
       "<g id=\"node22\" class=\"node\"><title>dropout1</title>\r\n",
       "<polygon fill=\"#fccde5\" stroke=\"black\" points=\"94,-2032 -7.10543e-015,-2032 -7.10543e-015,-1974 94,-1974 94,-2032\"/>\r\n",
       "<text text-anchor=\"middle\" x=\"47\" y=\"-1999.3\" font-family=\"Times New Roman,serif\" font-size=\"14.00\">Dropout</text>\r\n",
       "</g>\r\n",
       "<!-- dropout1&#45;&gt;activation7 -->\r\n",
       "<g id=\"edge21\" class=\"edge\"><title>dropout1&#45;&gt;activation7</title>\r\n",
       "<path fill=\"none\" stroke=\"black\" d=\"M47,-1963.74C47,-1955.2 47,-1946.3 47,-1938.25\"/>\r\n",
       "<polygon fill=\"black\" stroke=\"black\" points=\"47,-1973.9 42.5001,-1963.9 47,-1968.9 47.0001,-1963.9 47.0001,-1963.9 47.0001,-1963.9 47,-1968.9 51.5001,-1963.9 47,-1973.9 47,-1973.9\"/>\r\n",
       "</g>\r\n",
       "<!-- fullyconnected2 -->\r\n",
       "<g id=\"node23\" class=\"node\"><title>fullyconnected2</title>\r\n",
       "<polygon fill=\"#fb8072\" stroke=\"black\" points=\"94,-2126 -7.10543e-015,-2126 -7.10543e-015,-2068 94,-2068 94,-2126\"/>\r\n",
       "<text text-anchor=\"middle\" x=\"47\" y=\"-2100.8\" font-family=\"Times New Roman,serif\" font-size=\"14.00\">FullyConnected</text>\r\n",
       "<text text-anchor=\"middle\" x=\"47\" y=\"-2085.8\" font-family=\"Times New Roman,serif\" font-size=\"14.00\">14</text>\r\n",
       "</g>\r\n",
       "<!-- fullyconnected2&#45;&gt;dropout1 -->\r\n",
       "<g id=\"edge22\" class=\"edge\"><title>fullyconnected2&#45;&gt;dropout1</title>\r\n",
       "<path fill=\"none\" stroke=\"black\" d=\"M47,-2057.74C47,-2049.2 47,-2040.3 47,-2032.25\"/>\r\n",
       "<polygon fill=\"black\" stroke=\"black\" points=\"47,-2067.9 42.5001,-2057.9 47,-2062.9 47.0001,-2057.9 47.0001,-2057.9 47.0001,-2057.9 47,-2062.9 51.5001,-2057.9 47,-2067.9 47,-2067.9\"/>\r\n",
       "</g>\r\n",
       "<!-- softmax -->\r\n",
       "<g id=\"node24\" class=\"node\"><title>softmax</title>\r\n",
       "<polygon fill=\"#fccde5\" stroke=\"black\" points=\"94,-2220 -7.10543e-015,-2220 -7.10543e-015,-2162 94,-2162 94,-2220\"/>\r\n",
       "<text text-anchor=\"middle\" x=\"47\" y=\"-2187.3\" font-family=\"Times New Roman,serif\" font-size=\"14.00\">SoftmaxOutput</text>\r\n",
       "</g>\r\n",
       "<!-- softmax&#45;&gt;fullyconnected2 -->\r\n",
       "<g id=\"edge23\" class=\"edge\"><title>softmax&#45;&gt;fullyconnected2</title>\r\n",
       "<path fill=\"none\" stroke=\"black\" d=\"M47,-2151.74C47,-2143.2 47,-2134.3 47,-2126.25\"/>\r\n",
       "<polygon fill=\"black\" stroke=\"black\" points=\"47,-2161.9 42.5001,-2151.9 47,-2156.9 47.0001,-2151.9 47.0001,-2151.9 47.0001,-2151.9 47,-2156.9 51.5001,-2151.9 47,-2161.9 47,-2161.9\"/>\r\n",
       "</g>\r\n",
       "</g>\r\n",
       "</svg>\r\n"
      ],
      "text/plain": [
       "<graphviz.dot.Digraph at 0x61dc710>"
      ]
     },
     "execution_count": 8,
     "metadata": {},
     "output_type": "execute_result"
    }
   ],
   "source": [
    "# Visualise symbol (for crepe)\n",
    "crepe = create_crepe()\n",
    "\n",
    "a = mx.viz.plot_network(crepe)\n",
    "a.render('Crepe Model')\n",
    "a"
   ]
  },
  {
   "cell_type": "code",
   "execution_count": 9,
   "metadata": {
    "collapsed": false
   },
   "outputs": [
    {
     "name": "stdout",
     "output_type": "stream",
     "text": [
      "processing data frame: dbpedia_train.csv\n",
      "finished processing data frame: dbpedia_train.csv\n",
      "data contains 560000 obs\n",
      "('Processed: ', 100000)\n",
      "('Processed: ', 200000)\n",
      "('Processed: ', 300000)\n",
      "('Processed: ', 400000)\n",
      "('Processed: ', 500000)\n"
     ]
    }
   ],
   "source": [
    "train_x, train_y = load_data_frame('dbpedia_train.csv')"
   ]
  },
  {
   "cell_type": "code",
   "execution_count": 10,
   "metadata": {
    "collapsed": false
   },
   "outputs": [
    {
     "name": "stdout",
     "output_type": "stream",
     "text": [
      "processing data frame: dbpedia_test.csv\n",
      "finished processing data frame: dbpedia_test.csv\n",
      "data contains 70000 obs\n"
     ]
    }
   ],
   "source": [
    "test_x, test_y = load_data_frame('dbpedia_test.csv')"
   ]
  },
  {
   "cell_type": "code",
   "execution_count": 11,
   "metadata": {
    "collapsed": false
   },
   "outputs": [
    {
     "name": "stdout",
     "output_type": "stream",
     "text": [
      "(560000L, 1L, 1014L, 69L)\n",
      "(560000L,)\n",
      "(70000L, 1L, 1014L, 69L)\n",
      "(70000L,)\n"
     ]
    }
   ],
   "source": [
    "print(train_x.shape)\n",
    "print(train_y.shape)\n",
    "print(test_x.shape)\n",
    "print(test_y.shape)"
   ]
  },
  {
   "cell_type": "code",
   "execution_count": 12,
   "metadata": {
    "collapsed": true
   },
   "outputs": [],
   "source": [
    "train_iter = mx.io.NDArrayIter(train_x, train_y, batch_size=BATCH_SIZE, shuffle=True)"
   ]
  },
  {
   "cell_type": "code",
   "execution_count": 13,
   "metadata": {
    "collapsed": true
   },
   "outputs": [],
   "source": [
    "test_iter = mx.io.NDArrayIter(test_x, test_y, batch_size=BATCH_SIZE, shuffle=False)"
   ]
  },
  {
   "cell_type": "code",
   "execution_count": 14,
   "metadata": {
    "collapsed": true
   },
   "outputs": [],
   "source": [
    "del train_x\n",
    "del train_y\n",
    "del test_x"
   ]
  },
  {
   "cell_type": "code",
   "execution_count": 27,
   "metadata": {
    "collapsed": true
   },
   "outputs": [],
   "source": [
    "model = mx.model.FeedForward(\n",
    "    ctx = ctx,\n",
    "    symbol = create_crepe(), \n",
    "    num_epoch = EPOCHS,  # number of training rounds\n",
    "    learning_rate = LR,  # learning rate\n",
    "    momentum = MOMENTUM,   # momentum for sgd\n",
    "    wd = WDECAY,  # weight decay for reg\n",
    "    initializer = INITY  # init with sd of 0.05\n",
    ")"
   ]
  },
  {
   "cell_type": "code",
   "execution_count": 28,
   "metadata": {
    "collapsed": false
   },
   "outputs": [
    {
     "ename": "MXNetError",
     "evalue": "[22:35:44] d:\\chhong\\mxnet\\src\\storage\\./gpu_device_storage.h:39: Check failed: e == cudaSuccess || e == cudaErrorCudartUnloading CUDA: out of memory",
     "output_type": "error",
     "traceback": [
      "\u001b[1;31m---------------------------------------------------------------------------\u001b[0m",
      "\u001b[1;31mMXNetError\u001b[0m                                Traceback (most recent call last)",
      "\u001b[1;32m<ipython-input-28-871171ec9bba>\u001b[0m in \u001b[0;36m<module>\u001b[1;34m()\u001b[0m\n\u001b[0;32m      4\u001b[0m     \u001b[0meval_metric\u001b[0m\u001b[1;33m=\u001b[0m\u001b[1;33m[\u001b[0m\u001b[1;34m'accuracy'\u001b[0m\u001b[1;33m]\u001b[0m\u001b[1;33m,\u001b[0m\u001b[1;33m\u001b[0m\u001b[0m\n\u001b[0;32m      5\u001b[0m     \u001b[0mbatch_end_callback\u001b[0m\u001b[1;33m=\u001b[0m\u001b[0mmx\u001b[0m\u001b[1;33m.\u001b[0m\u001b[0mcallback\u001b[0m\u001b[1;33m.\u001b[0m\u001b[0mSpeedometer\u001b[0m\u001b[1;33m(\u001b[0m\u001b[1;36m100\u001b[0m\u001b[1;33m*\u001b[0m\u001b[0mBATCH_SIZE\u001b[0m\u001b[1;33m)\u001b[0m\u001b[1;33m,\u001b[0m\u001b[1;33m\u001b[0m\u001b[0m\n\u001b[1;32m----> 6\u001b[1;33m     \u001b[0mepoch_end_callback\u001b[0m\u001b[1;33m=\u001b[0m\u001b[0mmx\u001b[0m\u001b[1;33m.\u001b[0m\u001b[0mcallback\u001b[0m\u001b[1;33m.\u001b[0m\u001b[0mdo_checkpoint\u001b[0m\u001b[1;33m(\u001b[0m\u001b[1;34m\"crepe_dbp_chck_\"\u001b[0m\u001b[1;33m)\u001b[0m\u001b[1;33m\u001b[0m\u001b[0m\n\u001b[0m\u001b[0;32m      7\u001b[0m )\n\u001b[0;32m      8\u001b[0m \u001b[1;32mprint\u001b[0m\u001b[1;33m(\u001b[0m\u001b[1;34m\"Finished training in %.0f seconds\"\u001b[0m \u001b[1;33m%\u001b[0m \u001b[1;33m(\u001b[0m\u001b[0mtime\u001b[0m\u001b[1;33m.\u001b[0m\u001b[0mtime\u001b[0m\u001b[1;33m(\u001b[0m\u001b[1;33m)\u001b[0m \u001b[1;33m-\u001b[0m \u001b[0mtic\u001b[0m\u001b[1;33m)\u001b[0m\u001b[1;33m)\u001b[0m\u001b[1;33m\u001b[0m\u001b[0m\n",
      "\u001b[1;32mC:\\Anaconda2\\lib\\site-packages\\mxnet-0.7.0-py2.7.egg\\mxnet\\model.pyc\u001b[0m in \u001b[0;36mfit\u001b[1;34m(self, X, y, eval_data, eval_metric, epoch_end_callback, batch_end_callback, kvstore, logger, work_load_list, monitor, eval_batch_end_callback)\u001b[0m\n\u001b[0;32m    782\u001b[0m                             \u001b[0mlogger\u001b[0m\u001b[1;33m=\u001b[0m\u001b[0mlogger\u001b[0m\u001b[1;33m,\u001b[0m \u001b[0mwork_load_list\u001b[0m\u001b[1;33m=\u001b[0m\u001b[0mwork_load_list\u001b[0m\u001b[1;33m,\u001b[0m \u001b[0mmonitor\u001b[0m\u001b[1;33m=\u001b[0m\u001b[0mmonitor\u001b[0m\u001b[1;33m,\u001b[0m\u001b[1;33m\u001b[0m\u001b[0m\n\u001b[0;32m    783\u001b[0m                             \u001b[0meval_batch_end_callback\u001b[0m\u001b[1;33m=\u001b[0m\u001b[0meval_batch_end_callback\u001b[0m\u001b[1;33m,\u001b[0m\u001b[1;33m\u001b[0m\u001b[0m\n\u001b[1;32m--> 784\u001b[1;33m                             sym_gen=self.sym_gen)\n\u001b[0m\u001b[0;32m    785\u001b[0m \u001b[1;33m\u001b[0m\u001b[0m\n\u001b[0;32m    786\u001b[0m \u001b[1;33m\u001b[0m\u001b[0m\n",
      "\u001b[1;32mC:\\Anaconda2\\lib\\site-packages\\mxnet-0.7.0-py2.7.egg\\mxnet\\model.pyc\u001b[0m in \u001b[0;36m_train_multi_device\u001b[1;34m(symbol, ctx, arg_names, param_names, aux_names, arg_params, aux_params, begin_epoch, end_epoch, epoch_size, optimizer, kvstore, update_on_kvstore, train_data, eval_data, eval_metric, epoch_end_callback, batch_end_callback, logger, work_load_list, monitor, eval_batch_end_callback, sym_gen)\u001b[0m\n\u001b[0;32m    190\u001b[0m                                                    \u001b[0maux_names\u001b[0m\u001b[1;33m=\u001b[0m\u001b[0maux_names\u001b[0m\u001b[1;33m,\u001b[0m\u001b[1;33m\u001b[0m\u001b[0m\n\u001b[0;32m    191\u001b[0m                                                    \u001b[0mwork_load_list\u001b[0m\u001b[1;33m=\u001b[0m\u001b[0mwork_load_list\u001b[0m\u001b[1;33m,\u001b[0m\u001b[1;33m\u001b[0m\u001b[0m\n\u001b[1;32m--> 192\u001b[1;33m                                                    logger=logger)\n\u001b[0m\u001b[0;32m    193\u001b[0m     \u001b[1;32mif\u001b[0m \u001b[0mmonitor\u001b[0m\u001b[1;33m:\u001b[0m\u001b[1;33m\u001b[0m\u001b[0m\n\u001b[0;32m    194\u001b[0m         \u001b[0mexecutor_manager\u001b[0m\u001b[1;33m.\u001b[0m\u001b[0minstall_monitor\u001b[0m\u001b[1;33m(\u001b[0m\u001b[0mmonitor\u001b[0m\u001b[1;33m)\u001b[0m\u001b[1;33m\u001b[0m\u001b[0m\n",
      "\u001b[1;32mC:\\Anaconda2\\lib\\site-packages\\mxnet-0.7.0-py2.7.egg\\mxnet\\executor_manager.pyc\u001b[0m in \u001b[0;36m__init__\u001b[1;34m(self, symbol, ctx, train_data, arg_names, param_names, aux_names, work_load_list, logger, sym_gen)\u001b[0m\n\u001b[0;32m    309\u001b[0m \u001b[1;33m\u001b[0m\u001b[0m\n\u001b[0;32m    310\u001b[0m         self.execgrp = DataParallelExecutorGroup(symbol, self.arg_names, self.param_names, self.ctx,\n\u001b[1;32m--> 311\u001b[1;33m                                                  self.slices, train_data)\n\u001b[0m\u001b[0;32m    312\u001b[0m         \u001b[0mself\u001b[0m\u001b[1;33m.\u001b[0m\u001b[0msymbol\u001b[0m \u001b[1;33m=\u001b[0m \u001b[0msymbol\u001b[0m\u001b[1;33m\u001b[0m\u001b[0m\n\u001b[0;32m    313\u001b[0m \u001b[1;33m\u001b[0m\u001b[0m\n",
      "\u001b[1;32mC:\\Anaconda2\\lib\\site-packages\\mxnet-0.7.0-py2.7.egg\\mxnet\\executor_manager.pyc\u001b[0m in \u001b[0;36m__init__\u001b[1;34m(self, sym, arg_names, param_names, ctx, slices, train_data, shared_group)\u001b[0m\n\u001b[0;32m    222\u001b[0m             train_exec = _bind_exec(sym, ctx[i], data_shapes, self.param_names,\n\u001b[0;32m    223\u001b[0m                                     \u001b[0mneed_grad\u001b[0m\u001b[1;33m=\u001b[0m\u001b[0mTrue\u001b[0m\u001b[1;33m,\u001b[0m \u001b[0mbase_exec\u001b[0m\u001b[1;33m=\u001b[0m\u001b[0mshared_exec\u001b[0m\u001b[1;33m,\u001b[0m\u001b[1;33m\u001b[0m\u001b[0m\n\u001b[1;32m--> 224\u001b[1;33m                                     shared_data_arrays=self.shared_data_arrays[i])\n\u001b[0m\u001b[0;32m    225\u001b[0m             \u001b[0mself\u001b[0m\u001b[1;33m.\u001b[0m\u001b[0mtrain_execs\u001b[0m\u001b[1;33m.\u001b[0m\u001b[0mappend\u001b[0m\u001b[1;33m(\u001b[0m\u001b[0mtrain_exec\u001b[0m\u001b[1;33m)\u001b[0m\u001b[1;33m\u001b[0m\u001b[0m\n\u001b[0;32m    226\u001b[0m \u001b[1;33m\u001b[0m\u001b[0m\n",
      "\u001b[1;32mC:\\Anaconda2\\lib\\site-packages\\mxnet-0.7.0-py2.7.egg\\mxnet\\executor_manager.pyc\u001b[0m in \u001b[0;36m_bind_exec\u001b[1;34m(sym, ctx, input_shapes, param_names, need_grad, base_exec, shared_data_arrays, input_types, logger)\u001b[0m\n\u001b[0;32m    143\u001b[0m                     \u001b[0mshared_data_arrays\u001b[0m\u001b[1;33m[\u001b[0m\u001b[0mname\u001b[0m\u001b[1;33m]\u001b[0m \u001b[1;33m=\u001b[0m \u001b[0marg_arr\u001b[0m\u001b[1;33m\u001b[0m\u001b[0m\n\u001b[0;32m    144\u001b[0m             \u001b[1;32melse\u001b[0m\u001b[1;33m:\u001b[0m\u001b[1;33m\u001b[0m\u001b[0m\n\u001b[1;32m--> 145\u001b[1;33m                 \u001b[0marg_arr\u001b[0m \u001b[1;33m=\u001b[0m \u001b[0mnd\u001b[0m\u001b[1;33m.\u001b[0m\u001b[0mzeros\u001b[0m\u001b[1;33m(\u001b[0m\u001b[0marg_shape\u001b[0m\u001b[1;33m[\u001b[0m\u001b[0mi\u001b[0m\u001b[1;33m]\u001b[0m\u001b[1;33m,\u001b[0m \u001b[0mctx\u001b[0m\u001b[1;33m,\u001b[0m \u001b[0mdtype\u001b[0m\u001b[1;33m=\u001b[0m\u001b[0marg_types\u001b[0m\u001b[1;33m[\u001b[0m\u001b[0mi\u001b[0m\u001b[1;33m]\u001b[0m\u001b[1;33m)\u001b[0m\u001b[1;33m\u001b[0m\u001b[0m\n\u001b[0m\u001b[0;32m    146\u001b[0m                 \u001b[1;32mif\u001b[0m \u001b[0mshared_data_arrays\u001b[0m \u001b[1;32mis\u001b[0m \u001b[1;32mnot\u001b[0m \u001b[0mNone\u001b[0m\u001b[1;33m:\u001b[0m\u001b[1;33m\u001b[0m\u001b[0m\n\u001b[0;32m    147\u001b[0m                     \u001b[0mshared_data_arrays\u001b[0m\u001b[1;33m[\u001b[0m\u001b[0mname\u001b[0m\u001b[1;33m]\u001b[0m \u001b[1;33m=\u001b[0m \u001b[0marg_arr\u001b[0m\u001b[1;33m\u001b[0m\u001b[0m\n",
      "\u001b[1;32mC:\\Anaconda2\\lib\\site-packages\\mxnet-0.7.0-py2.7.egg\\mxnet\\ndarray.pyc\u001b[0m in \u001b[0;36mzeros\u001b[1;34m(shape, ctx, dtype)\u001b[0m\n\u001b[0;32m    686\u001b[0m         \u001b[0mThe\u001b[0m \u001b[0mcreated\u001b[0m \u001b[0mNDArray\u001b[0m\u001b[1;33m.\u001b[0m\u001b[1;33m\u001b[0m\u001b[0m\n\u001b[0;32m    687\u001b[0m     \"\"\"\n\u001b[1;32m--> 688\u001b[1;33m     \u001b[0marr\u001b[0m \u001b[1;33m=\u001b[0m \u001b[0mempty\u001b[0m\u001b[1;33m(\u001b[0m\u001b[0mshape\u001b[0m\u001b[1;33m,\u001b[0m \u001b[0mctx\u001b[0m\u001b[1;33m,\u001b[0m \u001b[0mdtype\u001b[0m\u001b[1;33m)\u001b[0m\u001b[1;33m\u001b[0m\u001b[0m\n\u001b[0m\u001b[0;32m    689\u001b[0m     \u001b[0marr\u001b[0m\u001b[1;33m[\u001b[0m\u001b[1;33m:\u001b[0m\u001b[1;33m]\u001b[0m \u001b[1;33m=\u001b[0m \u001b[1;36m0.0\u001b[0m\u001b[1;33m\u001b[0m\u001b[0m\n\u001b[0;32m    690\u001b[0m     \u001b[1;32mreturn\u001b[0m \u001b[0marr\u001b[0m\u001b[1;33m\u001b[0m\u001b[0m\n",
      "\u001b[1;32mC:\\Anaconda2\\lib\\site-packages\\mxnet-0.7.0-py2.7.egg\\mxnet\\ndarray.pyc\u001b[0m in \u001b[0;36mempty\u001b[1;34m(shape, ctx, dtype)\u001b[0m\n\u001b[0;32m    511\u001b[0m     \u001b[1;32mif\u001b[0m \u001b[0mctx\u001b[0m \u001b[1;32mis\u001b[0m \u001b[0mNone\u001b[0m\u001b[1;33m:\u001b[0m\u001b[1;33m\u001b[0m\u001b[0m\n\u001b[0;32m    512\u001b[0m         \u001b[0mctx\u001b[0m \u001b[1;33m=\u001b[0m \u001b[0mContext\u001b[0m\u001b[1;33m.\u001b[0m\u001b[0mdefault_ctx\u001b[0m\u001b[1;33m\u001b[0m\u001b[0m\n\u001b[1;32m--> 513\u001b[1;33m     \u001b[1;32mreturn\u001b[0m \u001b[0mNDArray\u001b[0m\u001b[1;33m(\u001b[0m\u001b[0mhandle\u001b[0m\u001b[1;33m=\u001b[0m\u001b[0m_new_alloc_handle\u001b[0m\u001b[1;33m(\u001b[0m\u001b[0mshape\u001b[0m\u001b[1;33m,\u001b[0m \u001b[0mctx\u001b[0m\u001b[1;33m,\u001b[0m \u001b[0mFalse\u001b[0m\u001b[1;33m,\u001b[0m \u001b[0mdtype\u001b[0m\u001b[1;33m)\u001b[0m\u001b[1;33m)\u001b[0m\u001b[1;33m\u001b[0m\u001b[0m\n\u001b[0m\u001b[0;32m    514\u001b[0m \u001b[1;33m\u001b[0m\u001b[0m\n\u001b[0;32m    515\u001b[0m \u001b[1;32mdef\u001b[0m \u001b[0madd\u001b[0m\u001b[1;33m(\u001b[0m\u001b[0mlhs\u001b[0m\u001b[1;33m,\u001b[0m \u001b[0mrhs\u001b[0m\u001b[1;33m)\u001b[0m\u001b[1;33m:\u001b[0m\u001b[1;33m\u001b[0m\u001b[0m\n",
      "\u001b[1;32mC:\\Anaconda2\\lib\\site-packages\\mxnet-0.7.0-py2.7.egg\\mxnet\\ndarray.pyc\u001b[0m in \u001b[0;36m_new_alloc_handle\u001b[1;34m(shape, ctx, delay_alloc, dtype)\u001b[0m\n\u001b[0;32m     63\u001b[0m         \u001b[0mctypes\u001b[0m\u001b[1;33m.\u001b[0m\u001b[0mc_int\u001b[0m\u001b[1;33m(\u001b[0m\u001b[0mint\u001b[0m\u001b[1;33m(\u001b[0m\u001b[0mdelay_alloc\u001b[0m\u001b[1;33m)\u001b[0m\u001b[1;33m)\u001b[0m\u001b[1;33m,\u001b[0m\u001b[1;33m\u001b[0m\u001b[0m\n\u001b[0;32m     64\u001b[0m         \u001b[0mctypes\u001b[0m\u001b[1;33m.\u001b[0m\u001b[0mc_int\u001b[0m\u001b[1;33m(\u001b[0m\u001b[0mint\u001b[0m\u001b[1;33m(\u001b[0m\u001b[0m_DTYPE_NP_TO_MX\u001b[0m\u001b[1;33m[\u001b[0m\u001b[0mnp\u001b[0m\u001b[1;33m.\u001b[0m\u001b[0mdtype\u001b[0m\u001b[1;33m(\u001b[0m\u001b[0mdtype\u001b[0m\u001b[1;33m)\u001b[0m\u001b[1;33m.\u001b[0m\u001b[0mtype\u001b[0m\u001b[1;33m]\u001b[0m\u001b[1;33m)\u001b[0m\u001b[1;33m)\u001b[0m\u001b[1;33m,\u001b[0m\u001b[1;33m\u001b[0m\u001b[0m\n\u001b[1;32m---> 65\u001b[1;33m         ctypes.byref(hdl)))\n\u001b[0m\u001b[0;32m     66\u001b[0m     \u001b[1;32mreturn\u001b[0m \u001b[0mhdl\u001b[0m\u001b[1;33m\u001b[0m\u001b[0m\n\u001b[0;32m     67\u001b[0m \u001b[1;33m\u001b[0m\u001b[0m\n",
      "\u001b[1;32mC:\\Anaconda2\\lib\\site-packages\\mxnet-0.7.0-py2.7.egg\\mxnet\\base.pyc\u001b[0m in \u001b[0;36mcheck_call\u001b[1;34m(ret)\u001b[0m\n\u001b[0;32m     75\u001b[0m     \"\"\"\n\u001b[0;32m     76\u001b[0m     \u001b[1;32mif\u001b[0m \u001b[0mret\u001b[0m \u001b[1;33m!=\u001b[0m \u001b[1;36m0\u001b[0m\u001b[1;33m:\u001b[0m\u001b[1;33m\u001b[0m\u001b[0m\n\u001b[1;32m---> 77\u001b[1;33m         \u001b[1;32mraise\u001b[0m \u001b[0mMXNetError\u001b[0m\u001b[1;33m(\u001b[0m\u001b[0mpy_str\u001b[0m\u001b[1;33m(\u001b[0m\u001b[0m_LIB\u001b[0m\u001b[1;33m.\u001b[0m\u001b[0mMXGetLastError\u001b[0m\u001b[1;33m(\u001b[0m\u001b[1;33m)\u001b[0m\u001b[1;33m)\u001b[0m\u001b[1;33m)\u001b[0m\u001b[1;33m\u001b[0m\u001b[0m\n\u001b[0m\u001b[0;32m     78\u001b[0m \u001b[1;33m\u001b[0m\u001b[0m\n\u001b[0;32m     79\u001b[0m \u001b[1;32mdef\u001b[0m \u001b[0mc_str\u001b[0m\u001b[1;33m(\u001b[0m\u001b[0mstring\u001b[0m\u001b[1;33m)\u001b[0m\u001b[1;33m:\u001b[0m\u001b[1;33m\u001b[0m\u001b[0m\n",
      "\u001b[1;31mMXNetError\u001b[0m: [22:35:44] d:\\chhong\\mxnet\\src\\storage\\./gpu_device_storage.h:39: Check failed: e == cudaSuccess || e == cudaErrorCudartUnloading CUDA: out of memory"
     ]
    }
   ],
   "source": [
    "tic = time.time()\n",
    "model.fit(\n",
    "    X = train_iter,\n",
    "    eval_metric=['accuracy'],\n",
    "    batch_end_callback=mx.callback.Speedometer(100*BATCH_SIZE),\n",
    "    epoch_end_callback=mx.callback.do_checkpoint(\"crepe_dbp_chck_\") \n",
    ")\n",
    "print(\"Finished training in %.0f seconds\" % (time.time() - tic))"
   ]
  },
  {
   "cell_type": "code",
   "execution_count": 25,
   "metadata": {
    "collapsed": false
   },
   "outputs": [
    {
     "ename": "MXNetError",
     "evalue": "[22:35:20] d:\\chhong\\mxnet\\src\\storage\\./gpu_device_storage.h:39: Check failed: e == cudaSuccess || e == cudaErrorCudartUnloading CUDA: out of memory",
     "output_type": "error",
     "traceback": [
      "\u001b[1;31m---------------------------------------------------------------------------\u001b[0m",
      "\u001b[1;31mMXNetError\u001b[0m                                Traceback (most recent call last)",
      "\u001b[1;32m<ipython-input-25-ebb396792141>\u001b[0m in \u001b[0;36m<module>\u001b[1;34m()\u001b[0m\n\u001b[0;32m      1\u001b[0m \u001b[1;31m# Predict\u001b[0m\u001b[1;33m\u001b[0m\u001b[1;33m\u001b[0m\u001b[0m\n\u001b[1;32m----> 2\u001b[1;33m \u001b[0mpred\u001b[0m \u001b[1;33m=\u001b[0m \u001b[0mnp\u001b[0m\u001b[1;33m.\u001b[0m\u001b[0margsort\u001b[0m\u001b[1;33m(\u001b[0m\u001b[0mmodel\u001b[0m\u001b[1;33m.\u001b[0m\u001b[0mpredict\u001b[0m\u001b[1;33m(\u001b[0m\u001b[0mX\u001b[0m \u001b[1;33m=\u001b[0m \u001b[0mtest_iter\u001b[0m\u001b[1;33m)\u001b[0m\u001b[1;33m)\u001b[0m\u001b[1;33m[\u001b[0m\u001b[1;33m:\u001b[0m\u001b[1;33m,\u001b[0m\u001b[1;33m-\u001b[0m\u001b[1;36m1\u001b[0m\u001b[1;33m]\u001b[0m\u001b[1;33m\u001b[0m\u001b[0m\n\u001b[0m\u001b[0;32m      3\u001b[0m \u001b[1;33m\u001b[0m\u001b[0m\n\u001b[0;32m      4\u001b[0m \u001b[1;31m# Save Results\u001b[0m\u001b[1;33m\u001b[0m\u001b[1;33m\u001b[0m\u001b[0m\n\u001b[0;32m      5\u001b[0m \u001b[0mnp\u001b[0m\u001b[1;33m.\u001b[0m\u001b[0msavetxt\u001b[0m\u001b[1;33m(\u001b[0m\u001b[1;34m'crepe_predict_class_dbpedia.csv'\u001b[0m\u001b[1;33m,\u001b[0m \u001b[0mnp\u001b[0m\u001b[1;33m.\u001b[0m\u001b[0mc_\u001b[0m\u001b[1;33m[\u001b[0m\u001b[0mpred\u001b[0m\u001b[1;33m,\u001b[0m \u001b[0mtest_y\u001b[0m\u001b[1;33m]\u001b[0m\u001b[1;33m,\u001b[0m \u001b[0mdelimiter\u001b[0m\u001b[1;33m=\u001b[0m\u001b[1;34m','\u001b[0m\u001b[1;33m,\u001b[0m \u001b[0mfmt\u001b[0m\u001b[1;33m=\u001b[0m\u001b[1;34m'%d'\u001b[0m\u001b[1;33m)\u001b[0m\u001b[1;33m\u001b[0m\u001b[0m\n",
      "\u001b[1;32mC:\\Anaconda2\\lib\\site-packages\\mxnet-0.7.0-py2.7.egg\\mxnet\\model.pyc\u001b[0m in \u001b[0;36mpredict\u001b[1;34m(self, X, num_batch, return_data, reset)\u001b[0m\n\u001b[0;32m    598\u001b[0m         \u001b[0mdata_shapes\u001b[0m \u001b[1;33m=\u001b[0m \u001b[0mX\u001b[0m\u001b[1;33m.\u001b[0m\u001b[0mprovide_data\u001b[0m\u001b[1;33m\u001b[0m\u001b[0m\n\u001b[0;32m    599\u001b[0m         \u001b[0mdata_names\u001b[0m \u001b[1;33m=\u001b[0m \u001b[1;33m[\u001b[0m\u001b[0mx\u001b[0m\u001b[1;33m[\u001b[0m\u001b[1;36m0\u001b[0m\u001b[1;33m]\u001b[0m \u001b[1;32mfor\u001b[0m \u001b[0mx\u001b[0m \u001b[1;32min\u001b[0m \u001b[0mdata_shapes\u001b[0m\u001b[1;33m]\u001b[0m\u001b[1;33m\u001b[0m\u001b[0m\n\u001b[1;32m--> 600\u001b[1;33m         \u001b[0mself\u001b[0m\u001b[1;33m.\u001b[0m\u001b[0m_init_predictor\u001b[0m\u001b[1;33m(\u001b[0m\u001b[0mdata_shapes\u001b[0m\u001b[1;33m)\u001b[0m\u001b[1;33m\u001b[0m\u001b[0m\n\u001b[0m\u001b[0;32m    601\u001b[0m         \u001b[0mbatch_size\u001b[0m \u001b[1;33m=\u001b[0m \u001b[0mX\u001b[0m\u001b[1;33m.\u001b[0m\u001b[0mbatch_size\u001b[0m\u001b[1;33m\u001b[0m\u001b[0m\n\u001b[0;32m    602\u001b[0m         \u001b[0mdata_arrays\u001b[0m \u001b[1;33m=\u001b[0m \u001b[1;33m[\u001b[0m\u001b[0mself\u001b[0m\u001b[1;33m.\u001b[0m\u001b[0m_pred_exec\u001b[0m\u001b[1;33m.\u001b[0m\u001b[0marg_dict\u001b[0m\u001b[1;33m[\u001b[0m\u001b[0mname\u001b[0m\u001b[1;33m]\u001b[0m \u001b[1;32mfor\u001b[0m \u001b[0mname\u001b[0m \u001b[1;32min\u001b[0m \u001b[0mdata_names\u001b[0m\u001b[1;33m]\u001b[0m\u001b[1;33m\u001b[0m\u001b[0m\n",
      "\u001b[1;32mC:\\Anaconda2\\lib\\site-packages\\mxnet-0.7.0-py2.7.egg\\mxnet\\model.pyc\u001b[0m in \u001b[0;36m_init_predictor\u001b[1;34m(self, input_shapes)\u001b[0m\n\u001b[0;32m    529\u001b[0m         \u001b[1;31m# for now only use the first device\u001b[0m\u001b[1;33m\u001b[0m\u001b[1;33m\u001b[0m\u001b[0m\n\u001b[0;32m    530\u001b[0m         pred_exec = self.symbol.simple_bind(\n\u001b[1;32m--> 531\u001b[1;33m             self.ctx[0], grad_req='null', **dict(input_shapes))\n\u001b[0m\u001b[0;32m    532\u001b[0m         \u001b[0mpred_exec\u001b[0m\u001b[1;33m.\u001b[0m\u001b[0mcopy_params_from\u001b[0m\u001b[1;33m(\u001b[0m\u001b[0mself\u001b[0m\u001b[1;33m.\u001b[0m\u001b[0marg_params\u001b[0m\u001b[1;33m,\u001b[0m \u001b[0mself\u001b[0m\u001b[1;33m.\u001b[0m\u001b[0maux_params\u001b[0m\u001b[1;33m)\u001b[0m\u001b[1;33m\u001b[0m\u001b[0m\n\u001b[0;32m    533\u001b[0m \u001b[1;33m\u001b[0m\u001b[0m\n",
      "\u001b[1;32mC:\\Anaconda2\\lib\\site-packages\\mxnet-0.7.0-py2.7.egg\\mxnet\\symbol.pyc\u001b[0m in \u001b[0;36msimple_bind\u001b[1;34m(self, ctx, grad_req, type_dict, group2ctx, **kwargs)\u001b[0m\n\u001b[0;32m    692\u001b[0m         arg_ndarrays = [\n\u001b[0;32m    693\u001b[0m             \u001b[0mzeros\u001b[0m\u001b[1;33m(\u001b[0m\u001b[0mshape\u001b[0m\u001b[1;33m,\u001b[0m \u001b[0mdev\u001b[0m\u001b[1;33m,\u001b[0m \u001b[0mdtype\u001b[0m\u001b[1;33m=\u001b[0m\u001b[0mdtype\u001b[0m\u001b[1;33m)\u001b[0m\u001b[1;33m\u001b[0m\u001b[0m\n\u001b[1;32m--> 694\u001b[1;33m             for dtype, dev, shape in zip(arg_types, arg_ctx, arg_shapes)]\n\u001b[0m\u001b[0;32m    695\u001b[0m         \u001b[1;32mif\u001b[0m \u001b[0mgrad_req\u001b[0m \u001b[1;33m!=\u001b[0m \u001b[1;34m'null'\u001b[0m\u001b[1;33m:\u001b[0m\u001b[1;33m\u001b[0m\u001b[0m\n\u001b[0;32m    696\u001b[0m             \u001b[0mgrad_ndarrays\u001b[0m \u001b[1;33m=\u001b[0m \u001b[1;33m{\u001b[0m\u001b[1;33m}\u001b[0m\u001b[1;33m\u001b[0m\u001b[0m\n",
      "\u001b[1;32mC:\\Anaconda2\\lib\\site-packages\\mxnet-0.7.0-py2.7.egg\\mxnet\\ndarray.pyc\u001b[0m in \u001b[0;36mzeros\u001b[1;34m(shape, ctx, dtype)\u001b[0m\n\u001b[0;32m    686\u001b[0m         \u001b[0mThe\u001b[0m \u001b[0mcreated\u001b[0m \u001b[0mNDArray\u001b[0m\u001b[1;33m.\u001b[0m\u001b[1;33m\u001b[0m\u001b[0m\n\u001b[0;32m    687\u001b[0m     \"\"\"\n\u001b[1;32m--> 688\u001b[1;33m     \u001b[0marr\u001b[0m \u001b[1;33m=\u001b[0m \u001b[0mempty\u001b[0m\u001b[1;33m(\u001b[0m\u001b[0mshape\u001b[0m\u001b[1;33m,\u001b[0m \u001b[0mctx\u001b[0m\u001b[1;33m,\u001b[0m \u001b[0mdtype\u001b[0m\u001b[1;33m)\u001b[0m\u001b[1;33m\u001b[0m\u001b[0m\n\u001b[0m\u001b[0;32m    689\u001b[0m     \u001b[0marr\u001b[0m\u001b[1;33m[\u001b[0m\u001b[1;33m:\u001b[0m\u001b[1;33m]\u001b[0m \u001b[1;33m=\u001b[0m \u001b[1;36m0.0\u001b[0m\u001b[1;33m\u001b[0m\u001b[0m\n\u001b[0;32m    690\u001b[0m     \u001b[1;32mreturn\u001b[0m \u001b[0marr\u001b[0m\u001b[1;33m\u001b[0m\u001b[0m\n",
      "\u001b[1;32mC:\\Anaconda2\\lib\\site-packages\\mxnet-0.7.0-py2.7.egg\\mxnet\\ndarray.pyc\u001b[0m in \u001b[0;36mempty\u001b[1;34m(shape, ctx, dtype)\u001b[0m\n\u001b[0;32m    511\u001b[0m     \u001b[1;32mif\u001b[0m \u001b[0mctx\u001b[0m \u001b[1;32mis\u001b[0m \u001b[0mNone\u001b[0m\u001b[1;33m:\u001b[0m\u001b[1;33m\u001b[0m\u001b[0m\n\u001b[0;32m    512\u001b[0m         \u001b[0mctx\u001b[0m \u001b[1;33m=\u001b[0m \u001b[0mContext\u001b[0m\u001b[1;33m.\u001b[0m\u001b[0mdefault_ctx\u001b[0m\u001b[1;33m\u001b[0m\u001b[0m\n\u001b[1;32m--> 513\u001b[1;33m     \u001b[1;32mreturn\u001b[0m \u001b[0mNDArray\u001b[0m\u001b[1;33m(\u001b[0m\u001b[0mhandle\u001b[0m\u001b[1;33m=\u001b[0m\u001b[0m_new_alloc_handle\u001b[0m\u001b[1;33m(\u001b[0m\u001b[0mshape\u001b[0m\u001b[1;33m,\u001b[0m \u001b[0mctx\u001b[0m\u001b[1;33m,\u001b[0m \u001b[0mFalse\u001b[0m\u001b[1;33m,\u001b[0m \u001b[0mdtype\u001b[0m\u001b[1;33m)\u001b[0m\u001b[1;33m)\u001b[0m\u001b[1;33m\u001b[0m\u001b[0m\n\u001b[0m\u001b[0;32m    514\u001b[0m \u001b[1;33m\u001b[0m\u001b[0m\n\u001b[0;32m    515\u001b[0m \u001b[1;32mdef\u001b[0m \u001b[0madd\u001b[0m\u001b[1;33m(\u001b[0m\u001b[0mlhs\u001b[0m\u001b[1;33m,\u001b[0m \u001b[0mrhs\u001b[0m\u001b[1;33m)\u001b[0m\u001b[1;33m:\u001b[0m\u001b[1;33m\u001b[0m\u001b[0m\n",
      "\u001b[1;32mC:\\Anaconda2\\lib\\site-packages\\mxnet-0.7.0-py2.7.egg\\mxnet\\ndarray.pyc\u001b[0m in \u001b[0;36m_new_alloc_handle\u001b[1;34m(shape, ctx, delay_alloc, dtype)\u001b[0m\n\u001b[0;32m     63\u001b[0m         \u001b[0mctypes\u001b[0m\u001b[1;33m.\u001b[0m\u001b[0mc_int\u001b[0m\u001b[1;33m(\u001b[0m\u001b[0mint\u001b[0m\u001b[1;33m(\u001b[0m\u001b[0mdelay_alloc\u001b[0m\u001b[1;33m)\u001b[0m\u001b[1;33m)\u001b[0m\u001b[1;33m,\u001b[0m\u001b[1;33m\u001b[0m\u001b[0m\n\u001b[0;32m     64\u001b[0m         \u001b[0mctypes\u001b[0m\u001b[1;33m.\u001b[0m\u001b[0mc_int\u001b[0m\u001b[1;33m(\u001b[0m\u001b[0mint\u001b[0m\u001b[1;33m(\u001b[0m\u001b[0m_DTYPE_NP_TO_MX\u001b[0m\u001b[1;33m[\u001b[0m\u001b[0mnp\u001b[0m\u001b[1;33m.\u001b[0m\u001b[0mdtype\u001b[0m\u001b[1;33m(\u001b[0m\u001b[0mdtype\u001b[0m\u001b[1;33m)\u001b[0m\u001b[1;33m.\u001b[0m\u001b[0mtype\u001b[0m\u001b[1;33m]\u001b[0m\u001b[1;33m)\u001b[0m\u001b[1;33m)\u001b[0m\u001b[1;33m,\u001b[0m\u001b[1;33m\u001b[0m\u001b[0m\n\u001b[1;32m---> 65\u001b[1;33m         ctypes.byref(hdl)))\n\u001b[0m\u001b[0;32m     66\u001b[0m     \u001b[1;32mreturn\u001b[0m \u001b[0mhdl\u001b[0m\u001b[1;33m\u001b[0m\u001b[0m\n\u001b[0;32m     67\u001b[0m \u001b[1;33m\u001b[0m\u001b[0m\n",
      "\u001b[1;32mC:\\Anaconda2\\lib\\site-packages\\mxnet-0.7.0-py2.7.egg\\mxnet\\base.pyc\u001b[0m in \u001b[0;36mcheck_call\u001b[1;34m(ret)\u001b[0m\n\u001b[0;32m     75\u001b[0m     \"\"\"\n\u001b[0;32m     76\u001b[0m     \u001b[1;32mif\u001b[0m \u001b[0mret\u001b[0m \u001b[1;33m!=\u001b[0m \u001b[1;36m0\u001b[0m\u001b[1;33m:\u001b[0m\u001b[1;33m\u001b[0m\u001b[0m\n\u001b[1;32m---> 77\u001b[1;33m         \u001b[1;32mraise\u001b[0m \u001b[0mMXNetError\u001b[0m\u001b[1;33m(\u001b[0m\u001b[0mpy_str\u001b[0m\u001b[1;33m(\u001b[0m\u001b[0m_LIB\u001b[0m\u001b[1;33m.\u001b[0m\u001b[0mMXGetLastError\u001b[0m\u001b[1;33m(\u001b[0m\u001b[1;33m)\u001b[0m\u001b[1;33m)\u001b[0m\u001b[1;33m)\u001b[0m\u001b[1;33m\u001b[0m\u001b[0m\n\u001b[0m\u001b[0;32m     78\u001b[0m \u001b[1;33m\u001b[0m\u001b[0m\n\u001b[0;32m     79\u001b[0m \u001b[1;32mdef\u001b[0m \u001b[0mc_str\u001b[0m\u001b[1;33m(\u001b[0m\u001b[0mstring\u001b[0m\u001b[1;33m)\u001b[0m\u001b[1;33m:\u001b[0m\u001b[1;33m\u001b[0m\u001b[0m\n",
      "\u001b[1;31mMXNetError\u001b[0m: [22:35:20] d:\\chhong\\mxnet\\src\\storage\\./gpu_device_storage.h:39: Check failed: e == cudaSuccess || e == cudaErrorCudartUnloading CUDA: out of memory"
     ]
    }
   ],
   "source": [
    "# Predict\n",
    "pred = np.argsort(model.predict(X = test_iter))[:,-1]\n",
    "\n",
    "# Save Results\n",
    "np.savetxt('crepe_predict_class_dbpedia.csv', np.c_[pred, test_y], delimiter=',', fmt='%d')"
   ]
  },
  {
   "cell_type": "code",
   "execution_count": null,
   "metadata": {
    "collapsed": false
   },
   "outputs": [],
   "source": [
    "# Accuracy\n",
    "acc = sum(pred==test_y.astype('int'))/float(len(test_y))\n",
    "logger.info(acc)\n",
    "acc "
   ]
  },
  {
   "cell_type": "code",
   "execution_count": null,
   "metadata": {
    "collapsed": true
   },
   "outputs": [],
   "source": []
  }
 ],
 "metadata": {
  "anaconda-cloud": {},
  "kernelspec": {
   "display_name": "Python [Root]",
   "language": "python",
   "name": "Python [Root]"
  },
  "language_info": {
   "codemirror_mode": {
    "name": "ipython",
    "version": 2
   },
   "file_extension": ".py",
   "mimetype": "text/x-python",
   "name": "python",
   "nbconvert_exporter": "python",
   "pygments_lexer": "ipython2",
   "version": "2.7.12"
  }
 },
 "nbformat": 4,
 "nbformat_minor": 0
}
