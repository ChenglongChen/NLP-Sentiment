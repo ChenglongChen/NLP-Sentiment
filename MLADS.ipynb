{
 "cells": [
  {
   "cell_type": "markdown",
   "metadata": {},
   "source": [
    "# Load Trained Model(s) \n",
    "### Unsupervised"
   ]
  },
  {
   "cell_type": "code",
   "execution_count": 1,
   "metadata": {
    "collapsed": false
   },
   "outputs": [
    {
     "data": {
      "text/plain": [
       "OrderedDict([('amazon', <gensim.models.doc2vec.Doc2Vec at 0x1763880e438>),\n",
       "             ('bigger', <gensim.models.doc2vec.Doc2Vec at 0x176097b3898>)])"
      ]
     },
     "execution_count": 1,
     "metadata": {},
     "output_type": "execute_result"
    }
   ],
   "source": [
    "import pickle\n",
    "\n",
    "w2v_models = pickle.load(open(\"two_models.pickle\",\"rb\"))\n",
    "w2v_models"
   ]
  },
  {
   "cell_type": "markdown",
   "metadata": {},
   "source": [
    "# Displacement Vectors: "
   ]
  },
  {
   "cell_type": "code",
   "execution_count": 2,
   "metadata": {
    "collapsed": false
   },
   "outputs": [
    {
     "data": {
      "text/plain": [
       "('queen', 0.7118192911148071)"
      ]
     },
     "execution_count": 2,
     "metadata": {},
     "output_type": "execute_result"
    }
   ],
   "source": [
    "w2v_models['bigger'].most_similar(positive=['king','woman'], negative=['man'])[0]"
   ]
  },
  {
   "cell_type": "code",
   "execution_count": 3,
   "metadata": {
    "collapsed": false
   },
   "outputs": [
    {
     "data": {
      "text/plain": [
       "('toner', 0.7879053354263306)"
      ]
     },
     "execution_count": 3,
     "metadata": {},
     "output_type": "execute_result"
    }
   ],
   "source": [
    "w2v_models['amazon'].most_similar(positive=['ink','stapler'], negative=['printer'])[0]"
   ]
  },
  {
   "cell_type": "code",
   "execution_count": 4,
   "metadata": {
    "collapsed": false
   },
   "outputs": [
    {
     "data": {
      "text/plain": [
       "('dvd', 0.4752013683319092)"
      ]
     },
     "execution_count": 4,
     "metadata": {},
     "output_type": "execute_result"
    }
   ],
   "source": [
    "w2v_models['bigger'].most_similar(positive=['book','tv'], negative=['paper'])[0]"
   ]
  },
  {
   "cell_type": "markdown",
   "metadata": {},
   "source": [
    "# Let's try a few more:"
   ]
  },
  {
   "cell_type": "code",
   "execution_count": 5,
   "metadata": {
    "collapsed": false
   },
   "outputs": [
    {
     "data": {
      "text/plain": [
       "[('Tendulkar', 0.9142372012138367),\n",
       " ('Sourav_Ganguly', 0.8573048710823059),\n",
       " ('Rahul_Dravid', 0.8558735847473145),\n",
       " ('Virender_Sehwag', 0.832067608833313),\n",
       " ('Yuvraj_Singh', 0.8319042921066284)]"
      ]
     },
     "execution_count": 5,
     "metadata": {},
     "output_type": "execute_result"
    }
   ],
   "source": [
    "w2v_models['bigger'].most_similar(\"Sachin_Tendulkar\")[:5]"
   ]
  },
  {
   "cell_type": "code",
   "execution_count": 6,
   "metadata": {
    "collapsed": false
   },
   "outputs": [
    {
     "data": {
      "text/plain": [
       "[('Aamir', 0.8667557239532471),\n",
       " ('Salman_Khan', 0.8080270290374756),\n",
       " ('Amitabh_Bachchan', 0.8061646223068237),\n",
       " ('Akshay_Kumar', 0.8051944375038147),\n",
       " ('Ajay_Devgan', 0.7940180897712708)]"
      ]
     },
     "execution_count": 6,
     "metadata": {},
     "output_type": "execute_result"
    }
   ],
   "source": [
    "w2v_models['bigger'].most_similar(\"Aamir_Khan\")[:5]"
   ]
  },
  {
   "cell_type": "code",
   "execution_count": 7,
   "metadata": {
    "collapsed": false
   },
   "outputs": [
    {
     "data": {
      "text/plain": [
       "[('Aishwarya_Rai_Bachchan', 0.8468828797340393),\n",
       " ('Aishwarya', 0.8377971053123474),\n",
       " ('Priyanka_Chopra', 0.8142795562744141),\n",
       " ('Katrina_Kaif', 0.8071194887161255),\n",
       " ('Kareena_Kapoor', 0.7971717715263367)]"
      ]
     },
     "execution_count": 7,
     "metadata": {},
     "output_type": "execute_result"
    }
   ],
   "source": [
    "w2v_models['bigger'].most_similar(\"Aishwarya_Rai\")[:5]"
   ]
  },
  {
   "cell_type": "code",
   "execution_count": 8,
   "metadata": {
    "collapsed": false
   },
   "outputs": [
    {
     "data": {
      "text/plain": [
       "('Putin', 0.684566855430603)"
      ]
     },
     "execution_count": 8,
     "metadata": {},
     "output_type": "execute_result"
    }
   ],
   "source": [
    "w2v_models['bigger'].most_similar(positive=['Modi','Russia'], negative=['India'])[1]"
   ]
  },
  {
   "cell_type": "code",
   "execution_count": 9,
   "metadata": {
    "collapsed": false
   },
   "outputs": [
    {
     "data": {
      "text/plain": [
       "('atoms', 0.536954939365387)"
      ]
     },
     "execution_count": 9,
     "metadata": {},
     "output_type": "execute_result"
    }
   ],
   "source": [
    "w2v_models['bigger'].most_similar(positive=['crumb','molecules'], negative=['bread'])[2]"
   ]
  },
  {
   "cell_type": "code",
   "execution_count": 10,
   "metadata": {
    "collapsed": false
   },
   "outputs": [
    {
     "data": {
      "text/plain": [
       "('serape', 0.46916866302490234)"
      ]
     },
     "execution_count": 10,
     "metadata": {},
     "output_type": "execute_result"
    }
   ],
   "source": [
    "w2v_models['bigger'].most_similar(positive=['sari','Mexico'], negative=['India'])[5]"
   ]
  },
  {
   "cell_type": "code",
   "execution_count": 11,
   "metadata": {
    "collapsed": false
   },
   "outputs": [
    {
     "data": {
      "text/plain": [
       "('Ranga_Shankara', 0.5202779173851013)"
      ]
     },
     "execution_count": 11,
     "metadata": {},
     "output_type": "execute_result"
    }
   ],
   "source": [
    "w2v_models['bigger'].most_similar(positive=['Shakespeare','India'], negative=['England'])[0]"
   ]
  },
  {
   "cell_type": "code",
   "execution_count": 12,
   "metadata": {
    "collapsed": false
   },
   "outputs": [
    {
     "data": {
      "text/plain": [
       "('Habib_Tanvir', 0.4281851053237915)"
      ]
     },
     "execution_count": 12,
     "metadata": {},
     "output_type": "execute_result"
    }
   ],
   "source": [
    "w2v_models['bigger'].most_similar(positive=['Shakespeare','Indian'], negative=['English'])[1]"
   ]
  }
 ],
 "metadata": {
  "kernelspec": {
   "display_name": "Python [Root]",
   "language": "python",
   "name": "Python [Root]"
  },
  "language_info": {
   "codemirror_mode": {
    "name": "ipython",
    "version": 3
   },
   "file_extension": ".py",
   "mimetype": "text/x-python",
   "name": "python",
   "nbconvert_exporter": "python",
   "pygments_lexer": "ipython3",
   "version": "3.5.2"
  }
 },
 "nbformat": 4,
 "nbformat_minor": 0
}
