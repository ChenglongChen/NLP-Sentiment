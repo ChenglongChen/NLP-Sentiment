{
 "cells": [
  {
   "cell_type": "markdown",
   "metadata": {},
   "source": [
    "# 3. TFIDF Approach"
   ]
  },
  {
   "cell_type": "markdown",
   "metadata": {},
   "source": [
    "## A. Model"
   ]
  },
  {
   "cell_type": "code",
   "execution_count": 11,
   "metadata": {
    "collapsed": false,
    "scrolled": false
   },
   "outputs": [],
   "source": [
    "from gensim import utils\n",
    "\n",
    "def file_to_list(fname):\n",
    "    with utils.smart_open(fname) as f:\n",
    "        for rev in f:\n",
    "            yield rev"
   ]
  },
  {
   "cell_type": "code",
   "execution_count": 13,
   "metadata": {
    "collapsed": false,
    "scrolled": false
   },
   "outputs": [
    {
     "name": "stdout",
     "output_type": "stream",
     "text": [
      "Sample review: it is and does exactly what the description said it would be and would do . couldn ' t be happier with it .\n",
      "\n",
      "Vectorising ... 999373 reviews\n",
      "done\n"
     ]
    }
   ],
   "source": [
    "from sklearn.feature_extraction.text import TfidfVectorizer\n",
    "from sklearn.linear_model import LogisticRegression\n",
    "from sklearn.ensemble import GradientBoostingClassifier\n",
    "\n",
    "# Training Data\n",
    "clean_train_reviews = []\n",
    "train_labels = []\n",
    "for f in ['train_good_reviews.txt',\n",
    "          'train_bad_reviews.txt']:\n",
    "    for review in file_to_list(f):\n",
    "        clean_train_reviews.append(utils.to_unicode(review))\n",
    "        if \"good\" in f:\n",
    "            train_labels.append(1)\n",
    "        elif \"bad\" in f:\n",
    "            train_labels.append(0)\n",
    "        else:\n",
    "            raise Exception\n",
    "        \n",
    "print(\"Sample review: %s\" % clean_train_reviews[0])\n",
    "print(\"Vectorising ... %d reviews\" % len(clean_train_reviews))\n",
    "\n",
    "## Defaults:\n",
    "#TfidfVectorizer(input='content', encoding='utf-8', decode_error='strict',\n",
    "#                strip_accents=None, lowercase=True, preprocessor=None,\n",
    "#                tokenizer=None, analyzer='word', stop_words=None,\n",
    "#                token_pattern='(?u)\\b\\w\\w+\\b', ngram_range=(1, 1),\n",
    "#                max_df=1.0, min_df=1, max_features=None, vocabulary=None,\n",
    "#                binary=False, dtype=<class 'numpy.int64'>, norm='l2',\n",
    "#                use_idf=True, smooth_idf=True, sublinear_tf=False\n",
    "\n",
    "# 40k, tri-grams, sublinear\n",
    "vectorizer = TfidfVectorizer(max_features = 40000, ngram_range = (1, 3), sublinear_tf = True)\n",
    "\n",
    "# Learn vocabulary and idf, return term-document matrix\n",
    "train_data_features = vectorizer.fit_transform(clean_train_reviews)\n",
    "\n",
    "del clean_train_reviews\n",
    "\n",
    "# Training Model\n",
    "\n",
    "## Defaults used\n",
    "#LogisticRegression(penalty='l2', dual=False, tol=0.0001, C=1.0, fit_intercept=True,\n",
    "#                   intercept_scaling=1, class_weight=None, random_state=None,\n",
    "#                   solver='liblinear', max_iter=100, multi_class='ovr',\n",
    "#                   verbose=0, warm_start=False, n_jobs=1)\n",
    "\n",
    "#GradientBoostingClassifier(loss='deviance', learning_rate=0.1, n_estimators=100,\n",
    "#                           subsample=1.0, min_samples_split=2, min_samples_leaf=1,\n",
    "#                           min_weight_fraction_leaf=0.0, max_depth=3, init=None,\n",
    "#                           random_state=None, max_features=None, verbose=0, \n",
    "#                           max_leaf_nodes=None, warm_start=False, presort='auto')\n",
    "\n",
    "# l2, max_iter = 100\n",
    "classifier_tfidf = LogisticRegression(n_jobs=-1)\n",
    "\n",
    "classifier_tfidf.fit(train_data_features, train_labels)\n",
    "\n",
    "print(\"done\")"
   ]
  },
  {
   "cell_type": "code",
   "execution_count": 15,
   "metadata": {
    "collapsed": false,
    "scrolled": false
   },
   "outputs": [
    {
     "data": {
      "text/plain": [
       "LogisticRegression(C=1.0, class_weight=None, dual=False, fit_intercept=True,\n",
       "          intercept_scaling=1, max_iter=100, multi_class='ovr', n_jobs=-1,\n",
       "          penalty='l2', random_state=None, solver='liblinear', tol=0.0001,\n",
       "          verbose=0, warm_start=False)"
      ]
     },
     "execution_count": 15,
     "metadata": {},
     "output_type": "execute_result"
    }
   ],
   "source": [
    "classifier_tfidf"
   ]
  },
  {
   "cell_type": "markdown",
   "metadata": {},
   "source": [
    "## B. Feature Importance"
   ]
  },
  {
   "cell_type": "code",
   "execution_count": 16,
   "metadata": {
    "collapsed": true
   },
   "outputs": [],
   "source": [
    "# Tree based estimators can be used to compute feature importances\n",
    "import numpy as np\n",
    "import matplotlib.pyplot as plt\n",
    "from sklearn.ensemble import ExtraTreesClassifier\n",
    "\n",
    "# Build a forest and compute the feature importances\n",
    "# n_jobs = -1 can make this fly!\n",
    "forest = ExtraTreesClassifier(n_estimators=250, n_jobs=-1)\n",
    "\n",
    "X, y = train_data_features, train_labels\n",
    "forest.fit(X, y)\n",
    "\n",
    "importances = forest.feature_importances_\n",
    "# Include standard deviation\n",
    "std = np.std([tree.feature_importances_ for tree in forest.estimators_],\n",
    "             axis=0)\n",
    "\n",
    "indices = np.argsort(importances)[::-1]\n",
    "vocab = vectorizer.get_feature_names()"
   ]
  },
  {
   "cell_type": "code",
   "execution_count": 18,
   "metadata": {
    "collapsed": false
   },
   "outputs": [
    {
     "name": "stdout",
     "output_type": "stream",
     "text": [
      "Feature ranking:\n",
      "1. feature \"not\" (0.011544)\n",
      "2. feature \"great\" (0.008364)\n",
      "3. feature \"love\" (0.005857)\n",
      "4. feature \"waste\" (0.003796)\n",
      "5. feature \"and\" (0.003290)\n",
      "6. feature \"easy to\" (0.003021)\n",
      "7. feature \"disappointed\" (0.003010)\n",
      "8. feature \"return\" (0.002764)\n",
      "9. feature \"would not\" (0.002692)\n",
      "10. feature \"easy\" (0.002570)\n",
      "11. feature \"perfect\" (0.002526)\n",
      "12. feature \"money\" (0.002447)\n",
      "13. feature \"but\" (0.002403)\n",
      "14. feature \"at all\" (0.002236)\n",
      "15. feature \"do not\" (0.002144)\n",
      "16. feature \"very disappointed\" (0.002111)\n",
      "17. feature \"waste of\" (0.002111)\n",
      "18. feature \"well\" (0.002063)\n",
      "19. feature \"did not\" (0.002042)\n",
      "20. feature \"highly\" (0.002030)\n"
     ]
    }
   ],
   "source": [
    "# Print the feature ranking\n",
    "feat, feat_imp, feat_std = [], [], []\n",
    "\n",
    "print(\"Feature ranking:\")\n",
    "for f in range(20):\n",
    "    print(\"%d. feature \\\"%s\\\" (%f)\" % (f + 1, vocab[int(indices[f])], importances[indices[f]]))\n",
    "    feat.append(vocab[int(indices[f])])\n",
    "    feat_imp.append(importances[indices[f]])\n",
    "    feat_std.append(std[indices[f]])"
   ]
  },
  {
   "cell_type": "code",
   "execution_count": 19,
   "metadata": {
    "collapsed": false
   },
   "outputs": [
    {
     "name": "stdout",
     "output_type": "stream",
     "text": [
      "Populating the interactive namespace from numpy and matplotlib\n"
     ]
    },
    {
     "name": "stderr",
     "output_type": "stream",
     "text": [
      "WARNING: pylab import has clobbered these variables: ['indices', 'std', 'random', 'f']\n",
      "`%matplotlib` prevents importing * from pylab and numpy\n"
     ]
    },
    {
     "data": {
      "image/png": "[encoded data removed]",
      "text/plain": [
       "<matplotlib.figure.Figure at 0x1ae86a9ab70>"
      ]
     },
     "metadata": {},
     "output_type": "display_data"
    }
   ],
   "source": [
    "# Plot\n",
    "%pylab inline\n",
    "import matplotlib.pyplot as plt\n",
    "\n",
    "ind = np.arange(len(feat))\n",
    "width = .75\n",
    "\n",
    "plt.figure(figsize=(20,10))\n",
    "plt.xlabel('n-gram')\n",
    "plt.ylabel('Feature Importance')\n",
    "plt.title('TFIDF Sentiment - Top 20 Features')\n",
    "\n",
    "plt.xticks(ind + width/2., (feat))\n",
    "plt.bar(ind, feat_imp, width, color=\"g\", yerr=feat_std)\n",
    "plt.show()"
   ]
  },
  {
   "cell_type": "code",
   "execution_count": 20,
   "metadata": {
    "collapsed": true
   },
   "outputs": [],
   "source": [
    "del train_data_features\n",
    "del train_labels\n",
    "del importances\n",
    "del vocab\n",
    "del indices\n",
    "#del forest"
   ]
  },
  {
   "cell_type": "markdown",
   "metadata": {},
   "source": [
    "## C. Classification"
   ]
  },
  {
   "cell_type": "code",
   "execution_count": 22,
   "metadata": {
    "collapsed": false,
    "scrolled": false
   },
   "outputs": [
    {
     "name": "stdout",
     "output_type": "stream",
     "text": [
      "Sample review: easy to use a mobile . if you ' re taller than ft , be ready to tuck your legs behind you as you hang and pull .\n",
      "\n",
      "Vectorising ... 1000627 reviews\n",
      "done\n"
     ]
    }
   ],
   "source": [
    "# Testing Data\n",
    "clean_test_reviews = []\n",
    "test_labels = []\n",
    "for f in ['test_good_reviews.txt',\n",
    "          'test_bad_reviews.txt']:\n",
    "    for review in file_to_list(f):\n",
    "        clean_test_reviews.append(utils.to_unicode(review))\n",
    "        if \"good\" in f:\n",
    "            test_labels.append(1)\n",
    "        elif \"bad\" in f:\n",
    "            test_labels.append(0)\n",
    "        else:\n",
    "            raise Exception\n",
    "                   \n",
    "print(\"Sample review: %s\" % clean_test_reviews[0])\n",
    "print(\"Vectorising ... %d reviews\" % len(clean_test_reviews))  \n",
    "\n",
    "# Transform documents to document-term matrix\n",
    "test_data_features = vectorizer.transform(clean_test_reviews)\n",
    "\n",
    "del clean_test_reviews\n",
    "print(\"done\")"
   ]
  },
  {
   "cell_type": "code",
   "execution_count": 34,
   "metadata": {
    "collapsed": false,
    "scrolled": false
   },
   "outputs": [
    {
     "data": {
      "text/plain": [
       "0.93074642199341018"
      ]
     },
     "execution_count": 34,
     "metadata": {},
     "output_type": "execute_result"
    }
   ],
   "source": [
    "# Run classifier\n",
    "classifier_tfidf.score(test_data_features, test_labels) \n",
    "\n",
    "# 50k gives 0.915\n",
    "# 500k gives 0.928\n",
    "# 1mill gives 0.931"
   ]
  },
  {
   "cell_type": "code",
   "execution_count": 23,
   "metadata": {
    "collapsed": false
   },
   "outputs": [
    {
     "data": {
      "text/plain": [
       "0.89869451853687743"
      ]
     },
     "execution_count": 23,
     "metadata": {},
     "output_type": "execute_result"
    }
   ],
   "source": [
    "# By the way, the forest we trained doesn't do so well:\n",
    "forest.score(test_data_features, test_labels) "
   ]
  },
  {
   "cell_type": "code",
   "execution_count": 24,
   "metadata": {
    "collapsed": true
   },
   "outputs": [],
   "source": [
    "del forest"
   ]
  },
  {
   "cell_type": "markdown",
   "metadata": {},
   "source": [
    "## D. Evaluate"
   ]
  },
  {
   "cell_type": "code",
   "execution_count": 35,
   "metadata": {
    "collapsed": true
   },
   "outputs": [],
   "source": [
    "tricky_sentences = [\n",
    "    \"Most movies are rubbish, however this one was good\",\n",
    "    \"This is a product you would love to hate\",\n",
    "    \"Rubbish from start to finish\",\n",
    "    \"I was so happy when this ended\",\n",
    "    \"Very good\",\n",
    "    \"Horrible\"\n",
    "]"
   ]
  },
  {
   "cell_type": "code",
   "execution_count": 36,
   "metadata": {
    "collapsed": false,
    "scrolled": false
   },
   "outputs": [
    {
     "name": "stdout",
     "output_type": "stream",
     "text": [
      "most movies are rubbish , however this one was good\n",
      " [0]\n",
      "this is a product you would love to hate\n",
      " [0]\n",
      "rubbish from start to finish\n",
      " [0]\n",
      "i was so happy when this ended\n",
      " [1]\n",
      "very good\n",
      " [1]\n",
      "horrible\n",
      " [0]\n"
     ]
    }
   ],
   "source": [
    "# Some tests ...\n",
    "def tfidf_sample_sentiment(mystr):\n",
    "    assert isinstance(mystr, str)\n",
    "    test_data_feat = vectorizer.transform([mystr])\n",
    "    pred = classifier_tfidf.predict(test_data_feat)\n",
    "    return pred\n",
    "\n",
    "for x in tricky_sentences:\n",
    "    clean = clean_review(x)\n",
    "    print(clean, tfidf_sample_sentiment(clean))    "
   ]
  },
  {
   "cell_type": "code",
   "execution_count": 37,
   "metadata": {
    "collapsed": true
   },
   "outputs": [],
   "source": [
    "del vectorizer\n",
    "del classifier_tfidf\n",
    "del test_data_features\n",
    "del test_labels"
   ]
  }
 ],
 "metadata": {
  "anaconda-cloud": {},
  "kernelspec": {
   "display_name": "Python [Root]",
   "language": "python",
   "name": "Python [Root]"
  },
  "language_info": {
   "codemirror_mode": {
    "name": "ipython",
    "version": 3
   },
   "file_extension": ".py",
   "mimetype": "text/x-python",
   "name": "python",
   "nbconvert_exporter": "python",
   "pygments_lexer": "ipython3",
   "version": "3.5.1"
  }
 },
 "nbformat": 4,
 "nbformat_minor": 0
}
