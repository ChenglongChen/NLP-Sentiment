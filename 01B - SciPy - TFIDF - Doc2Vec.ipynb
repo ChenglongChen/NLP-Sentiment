{
 "cells": [
  {
   "cell_type": "markdown",
   "metadata": {},
   "source": [
    "# Toy Model (Naive Bayes)"
   ]
  },
  {
   "cell_type": "code",
   "execution_count": 55,
   "metadata": {
    "collapsed": false
   },
   "outputs": [
    {
     "name": "stdout",
     "output_type": "stream",
     "text": [
      "Review:  {'movie': 1, 'enjoyed': 1, 'this': 1, 'i': 1} Sentiment:  good\n",
      "Review:  {'fun': 1, 'book': 1, 'was': 1, 'this': 1} Sentiment:  good\n",
      "Review:  {'horrid': 1, 'tasted': 1, 'cake': 1, 'this': 1} Sentiment:  bad\n",
      "Review:  {'ended': 1, 'i': 1, 'this': 1, 'when': 1, 'happy': 1, 'was': 1} Sentiment:  bad\n",
      "Trained Model:\n",
      "ended {'bad': 1}\n",
      "movie {'good': 1}\n",
      "happy {'bad': 1}\n",
      "this {'bad': 2, 'good': 2}\n",
      "horrid {'bad': 1}\n",
      "book {'good': 1}\n",
      "enjoyed {'good': 1}\n",
      "was {'bad': 1, 'good': 1}\n",
      "tasted {'bad': 1}\n",
      "i {'bad': 1, 'good': 1}\n",
      "fun {'good': 1}\n",
      "when {'bad': 1}\n",
      "cake {'bad': 1}\n",
      "Some predictions:\n",
      "good\n",
      "bad\n",
      "bad\n"
     ]
    }
   ],
   "source": [
    "import re\n",
    "import math\n",
    "from gensim import utils\n",
    "\n",
    "class Classifier:\n",
    "    def __init__(self, filename=None):\n",
    "        # count of feature/category combinations\n",
    "        self.fc = {}\n",
    "        # count of documents in each category\n",
    "        self.cc = {}\n",
    "        # some samples\n",
    "        self.train_samples = [\n",
    "            ['i enjoyed this movie', 'good'],\n",
    "            ['this book was fun', 'good'],\n",
    "            ['this cake tasted horrid', 'bad'],\n",
    "            ['i was happy when this ended', 'bad']]\n",
    "        \n",
    "    # Increment the category count for feature\n",
    "    # e.g. (loved, good) -> 'loved': {'good': 1}\n",
    "    def inc_count_feat_categ(self, f, cat):\n",
    "        self.fc.setdefault(f,{})\n",
    "        self.fc[f].setdefault(cat, 0)\n",
    "        self.fc[f][cat] += 1\n",
    "        \n",
    "    # Return count of feature appearing in category, e.g.\n",
    "    # (loved, good) will return 1.0\n",
    "    def feat_count(self, f, cat):\n",
    "        if f in self.fc and cat in self.fc[f]:\n",
    "            return float(self.fc[f][cat])\n",
    "        return 0\n",
    "    \n",
    "    # Increment category count \n",
    "    # e.g. (good) -> {'good': 1}\n",
    "    def inc_count_category(self, cat):\n",
    "        self.cc.setdefault(cat, 0)\n",
    "        self.cc[cat] += 1\n",
    "            \n",
    "    # Return number of items in category\n",
    "    def cat_count(self, cat):\n",
    "        if cat in self.cc:\n",
    "            return float(self.cc[cat])\n",
    "        return 0\n",
    "    \n",
    "    # Total number of items supplied\n",
    "    def total_count(self):\n",
    "        return sum(self.cc.values())\n",
    "    \n",
    "    # List of all categories\n",
    "    def list_categories(self):\n",
    "        return self.cc.keys()\n",
    "    \n",
    "    # Start counting number of times word appears in a category\n",
    "    def train(self, features, cat):      \n",
    "        # Inc count for every feature in this category\n",
    "        for f in features:\n",
    "            self.inc_count_feat_categ(f, cat)\n",
    "        # Inc count for category\n",
    "        self.inc_count_category(cat)     \n",
    "\n",
    "    # Return conditional probability of observing feature, given \n",
    "    # a category\n",
    "    def feat_prob(self, f, cat):\n",
    "        if self.cat_count(cat) == 0:\n",
    "            return 0\n",
    "        # Number of times feature appears in category, \n",
    "        # Divided by total number of features in category\n",
    "        return self.feat_count(f, cat)/self.cat_count(cat)\n",
    "    \n",
    "    def weighted_prob(self, f, cat, weight=1.0, ap=0.5):\n",
    "        # Assumed probability (prior) is 0.5\n",
    "        # Calculate current probability (observing word, given category)\n",
    "        basic_prob = self.feat_prob(f, cat)\n",
    "        \n",
    "        # Calculate number of times feature has appeared\n",
    "        # in all categories (e.g. 4 in bad, 2 in good)\n",
    "        totals = sum([self.feat_count(f,c) for c in self.list_categories()])\n",
    "        \n",
    "        # Calculate weighted average\n",
    "        bp = ((weight*ap)+(totals*basic_prob))/(weight+totals)\n",
    "        # Return average of prior and basic probability\n",
    "        return bp\n",
    "        \n",
    "    def doc_prob(self, features, cat):\n",
    "        # Simply multiple all probabilities together\n",
    "        p = 1\n",
    "        for f in features:\n",
    "            p*= self.weighted_prob(f, cat)\n",
    "        # Probability of document given category\n",
    "        return p\n",
    "    \n",
    "    # We want the probability of category given document\n",
    "    def prob(self, features, cat):\n",
    "        # p(Cat|Doc) = p(Doc|Cat) * p(Cat) \\ p(Doc)\n",
    "        # If equal classes then cat_prob will 0.5\n",
    "        # p(Doc) is same no matter what category so will scale results by same amount\n",
    "        cat_prob = self.cat_count(cat)/self.total_count()\n",
    "        doc_prob = self.doc_prob(features, cat)\n",
    "        return doc_prob*cat_prob\n",
    "\n",
    "# Yield a review from a large .txt containing the reviews\n",
    "# Formatted as a dictionary of words\n",
    "def para_to_dict(para):\n",
    "    words = utils.to_unicode(para).split()\n",
    "    return dict([(w,1) for w in words])    \n",
    "\n",
    "def get_words(fname):\n",
    "    with utils.smart_open(fname) as f:\n",
    "        for paragraph in f:\n",
    "            yield para_to_dict(paragraph)\n",
    "\n",
    "def get_sentiment(paragraph):\n",
    "    if not isinstance(paragraph, dict):\n",
    "        raise Exception(\"Supply a dictionary of words\")\n",
    "    p_good = classy.prob(paragraph, 'good')\n",
    "    p_bad = classy.prob(paragraph, 'bad')\n",
    "    if p_good > p_bad: \n",
    "        return 'good'\n",
    "    else:\n",
    "        return 'bad'\n",
    "\n",
    "# Initialise with our feature extraction function (words)\n",
    "classy = Classifier()\n",
    "\n",
    "# Train sample\n",
    "for sample_review, sentiment in classy.train_samples:\n",
    "    print(\"Review: \", para_to_dict(sample_review), \"Sentiment: \", sentiment)\n",
    "    classy.train(para_to_dict(sample_review), sentiment)\n",
    "\n",
    "# Examine model\n",
    "print(\"Trained Model:\")\n",
    "for k in classy.fc.keys():\n",
    "    print(k, classy.fc[k])\n",
    "\n",
    "# Predict sentiment\n",
    "print(\"Some predictions:\")\n",
    "print(get_sentiment(para_to_dict('i enjoyed this book'))) # good\n",
    "print(get_sentiment(para_to_dict('my trip was horrid'))) # bad\n",
    "print(get_sentiment(para_to_dict('i am happy'))) # bad"
   ]
  },
  {
   "cell_type": "code",
   "execution_count": 56,
   "metadata": {
    "collapsed": false
   },
   "outputs": [
    {
     "name": "stdout",
     "output_type": "stream",
     "text": [
      "100000\n",
      "200000\n",
      "300000\n",
      "400000\n",
      "500000\n",
      "600000\n",
      "700000\n",
      "800000\n",
      "900000\n",
      "100000\n",
      "200000\n",
      "300000\n",
      "400000\n",
      "500000\n",
      "600000\n",
      "700000\n",
      "800000\n",
      "900000\n",
      "1000000\n",
      "0.49989456610705085\n"
     ]
    }
   ],
   "source": [
    "# Apply to movie reviews\n",
    "classy = Classifier()\n",
    "\n",
    "# Train\n",
    "i = 0\n",
    "for f in ['train_good_reviews.txt',\n",
    "          'train_bad_reviews.txt']:\n",
    "    for review in getwords(f):\n",
    "        i += 1\n",
    "        classy.train(x, f.split(\"_\")[1])\n",
    "        if i % 100000 == 0:\n",
    "            print(i)\n",
    "            \n",
    "# Test\n",
    "tot = 0\n",
    "correct = 0\n",
    "\n",
    "for f in ['test_good_reviews.txt',\n",
    "          'test_bad_reviews.txt']:\n",
    "    for review in getwords(f):\n",
    "        tot += 1\n",
    "        if get_sentiment(review) ==  f.split(\"_\")[1]:\n",
    "            correct += 1\n",
    "        if tot % 100000 == 0:\n",
    "            print(tot)\n",
    "            \n",
    "acc = correct/tot\n",
    "print(acc)  # 0.49989456610705085"
   ]
  },
  {
   "cell_type": "markdown",
   "metadata": {},
   "source": [
    "# 3. TFIDF Approach"
   ]
  },
  {
   "cell_type": "markdown",
   "metadata": {},
   "source": [
    "## A. Model"
   ]
  },
  {
   "cell_type": "code",
   "execution_count": 1,
   "metadata": {
    "collapsed": false,
    "scrolled": false
   },
   "outputs": [],
   "source": [
    "from gensim import utils\n",
    "\n",
    "def file_to_list(fname):\n",
    "    with utils.smart_open(fname) as f:\n",
    "        for rev in f:\n",
    "            yield rev"
   ]
  },
  {
   "cell_type": "code",
   "execution_count": 2,
   "metadata": {
    "collapsed": false,
    "scrolled": false
   },
   "outputs": [
    {
     "name": "stdout",
     "output_type": "stream",
     "text": [
      "Sample review: it is and does exactly what the description said it would be and would do . couldn ' t be happier with it .\n",
      "\n",
      "Vectorising ... 999373 reviews\n",
      "done\n"
     ]
    }
   ],
   "source": [
    "from sklearn.feature_extraction.text import TfidfVectorizer\n",
    "from sklearn.linear_model import LogisticRegression\n",
    "from sklearn.ensemble import GradientBoostingClassifier\n",
    "\n",
    "# Training Data\n",
    "clean_train_reviews = []\n",
    "train_labels = []\n",
    "for f in ['train_good_reviews.txt',\n",
    "          'train_bad_reviews.txt']:\n",
    "    for review in file_to_list(f):\n",
    "        clean_train_reviews.append(utils.to_unicode(review))\n",
    "        if \"good\" in f:\n",
    "            train_labels.append(1)\n",
    "        elif \"bad\" in f:\n",
    "            train_labels.append(0)\n",
    "        else:\n",
    "            raise Exception\n",
    "        \n",
    "print(\"Sample review: %s\" % clean_train_reviews[0])\n",
    "print(\"Vectorising ... %d reviews\" % len(clean_train_reviews))\n",
    "\n",
    "## Defaults:\n",
    "#TfidfVectorizer(input='content', encoding='utf-8', decode_error='strict',\n",
    "#                strip_accents=None, lowercase=True, preprocessor=None,\n",
    "#                tokenizer=None, analyzer='word', stop_words=None,\n",
    "#                token_pattern='(?u)\\b\\w\\w+\\b', ngram_range=(1, 1),\n",
    "#                max_df=1.0, min_df=1, max_features=None, vocabulary=None,\n",
    "#                binary=False, dtype=<class 'numpy.int64'>, norm='l2',\n",
    "#                use_idf=True, smooth_idf=True, sublinear_tf=False\n",
    "\n",
    "# 40k, tri-grams, sublinear\n",
    "vectorizer = TfidfVectorizer(max_features = 40000, ngram_range = (1, 3), sublinear_tf = True)\n",
    "\n",
    "# Learn vocabulary and idf, return term-document matrix\n",
    "train_data_features = vectorizer.fit_transform(clean_train_reviews)\n",
    "\n",
    "del clean_train_reviews\n",
    "\n",
    "# Training Model\n",
    "\n",
    "## Defaults used\n",
    "#LogisticRegression(penalty='l2', dual=False, tol=0.0001, C=1.0, fit_intercept=True,\n",
    "#                   intercept_scaling=1, class_weight=None, random_state=None,\n",
    "#                   solver='liblinear', max_iter=100, multi_class='ovr',\n",
    "#                   verbose=0, warm_start=False, n_jobs=1)\n",
    "\n",
    "#GradientBoostingClassifier(loss='deviance', learning_rate=0.1, n_estimators=100,\n",
    "#                           subsample=1.0, min_samples_split=2, min_samples_leaf=1,\n",
    "#                           min_weight_fraction_leaf=0.0, max_depth=3, init=None,\n",
    "#                           random_state=None, max_features=None, verbose=0, \n",
    "#                           max_leaf_nodes=None, warm_start=False, presort='auto')\n",
    "\n",
    "# l2, max_iter = 100\n",
    "classifier_tfidf = LogisticRegression(n_jobs=-1)\n",
    "\n",
    "classifier_tfidf.fit(train_data_features, train_labels)\n",
    "\n",
    "print(\"done\")"
   ]
  },
  {
   "cell_type": "code",
   "execution_count": 3,
   "metadata": {
    "collapsed": false,
    "scrolled": false
   },
   "outputs": [
    {
     "data": {
      "text/plain": [
       "LogisticRegression(C=1.0, class_weight=None, dual=False, fit_intercept=True,\n",
       "          intercept_scaling=1, max_iter=100, multi_class='ovr', n_jobs=-1,\n",
       "          penalty='l2', random_state=None, solver='liblinear', tol=0.0001,\n",
       "          verbose=0, warm_start=False)"
      ]
     },
     "execution_count": 3,
     "metadata": {},
     "output_type": "execute_result"
    }
   ],
   "source": [
    "classifier_tfidf"
   ]
  },
  {
   "cell_type": "code",
   "execution_count": 12,
   "metadata": {
    "collapsed": false
   },
   "outputs": [
    {
     "name": "stdout",
     "output_type": "stream",
     "text": [
      "Populating the interactive namespace from numpy and matplotlib\n",
      "[t-SNE] Computing pairwise distances...\n",
      "[t-SNE] Computing 91 nearest neighbors...\n",
      "[t-SNE] Computed conditional probabilities for sample 1000 / 1000\n",
      "[t-SNE] Mean sigma: 0.179964\n",
      "[t-SNE] Error after 100 iterations with early exaggeration: 1.799137\n",
      "[t-SNE] Error after 175 iterations: 1.697676\n"
     ]
    },
    {
     "data": {
      "text/plain": [
       "<matplotlib.text.Text at 0x208dc6273c8>"
      ]
     },
     "execution_count": 12,
     "metadata": {},
     "output_type": "execute_result"
    },
    {
     "data": {
      "image/png": "[encoded data removed]",
      "text/plain": [
       "<matplotlib.figure.Figure at 0x208c9b277b8>"
      ]
     },
     "metadata": {},
     "output_type": "display_data"
    }
   ],
   "source": [
    "# Visualise the documents\n",
    "%pylab inline\n",
    "\n",
    "from sklearn.decomposition import PCA\n",
    "from sklearn.manifold import TSNE\n",
    "import matplotlib.pyplot as plt\n",
    "\n",
    "# Select 1000 examples to visualise\n",
    "idx = np.random.choice(np.arange(len(train_labels)), 1000, replace=False)\n",
    "\n",
    "X = train_data_features[idx].toarray()\n",
    "y = np.array(train_labels)[idx]\n",
    "\n",
    "#pca = PCA(n_components=50)\n",
    "#pca_50_r = pca.fit(X).transform(X)\n",
    "\n",
    "tsne = TSNE(n_components=2, verbose=1)\n",
    "X_r = tsne.fit_transform(X)\n",
    "\n",
    "plt.style.context('seaborn-whitegrid')\n",
    "plt.figure(figsize=(20,10))\n",
    "for c, i, target_name in zip(\"rg\", [0, 1], ['Negative', 'Positive']):\n",
    "    plt.scatter(X_r[y == i, 0], X_r[y == i, 1], c=c, alpha=0.5, label=target_name)\n",
    "plt.xlabel('Principal Component 1')\n",
    "plt.ylabel('Principal Component 2')\n",
    "plt.legend(loc='lower center')\n",
    "plt.tight_layout()\n",
    "plt.title('PCA of 100D feature vectors for reviews')"
   ]
  },
  {
   "cell_type": "markdown",
   "metadata": {},
   "source": [
    "## B. Feature Importance"
   ]
  },
  {
   "cell_type": "code",
   "execution_count": 16,
   "metadata": {
    "collapsed": true
   },
   "outputs": [],
   "source": [
    "# Tree based estimators can be used to compute feature importances\n",
    "import numpy as np\n",
    "from sklearn.ensemble import ExtraTreesClassifier\n",
    "\n",
    "# Build a forest and compute the feature importances\n",
    "# n_jobs = -1 can make this fly!\n",
    "forest = ExtraTreesClassifier(n_estimators=250, n_jobs=-1)\n",
    "\n",
    "X, y = train_data_features, train_labels\n",
    "forest.fit(X, y)\n",
    "\n",
    "importances = forest.feature_importances_\n",
    "# Include standard deviation\n",
    "std = np.std([tree.feature_importances_ for tree in forest.estimators_],\n",
    "             axis=0)\n",
    "\n",
    "indices = np.argsort(importances)[::-1]\n",
    "vocab = vectorizer.get_feature_names()"
   ]
  },
  {
   "cell_type": "code",
   "execution_count": 18,
   "metadata": {
    "collapsed": false
   },
   "outputs": [
    {
     "name": "stdout",
     "output_type": "stream",
     "text": [
      "Feature ranking:\n",
      "1. feature \"not\" (0.011544)\n",
      "2. feature \"great\" (0.008364)\n",
      "3. feature \"love\" (0.005857)\n",
      "4. feature \"waste\" (0.003796)\n",
      "5. feature \"and\" (0.003290)\n",
      "6. feature \"easy to\" (0.003021)\n",
      "7. feature \"disappointed\" (0.003010)\n",
      "8. feature \"return\" (0.002764)\n",
      "9. feature \"would not\" (0.002692)\n",
      "10. feature \"easy\" (0.002570)\n",
      "11. feature \"perfect\" (0.002526)\n",
      "12. feature \"money\" (0.002447)\n",
      "13. feature \"but\" (0.002403)\n",
      "14. feature \"at all\" (0.002236)\n",
      "15. feature \"do not\" (0.002144)\n",
      "16. feature \"very disappointed\" (0.002111)\n",
      "17. feature \"waste of\" (0.002111)\n",
      "18. feature \"well\" (0.002063)\n",
      "19. feature \"did not\" (0.002042)\n",
      "20. feature \"highly\" (0.002030)\n"
     ]
    }
   ],
   "source": [
    "# Print the feature ranking\n",
    "feat, feat_imp, feat_std = [], [], []\n",
    "\n",
    "print(\"Feature ranking:\")\n",
    "for f in range(20):\n",
    "    print(\"%d. feature \\\"%s\\\" (%f)\" % (f + 1, vocab[int(indices[f])], importances[indices[f]]))\n",
    "    feat.append(vocab[int(indices[f])])\n",
    "    feat_imp.append(importances[indices[f]])\n",
    "    feat_std.append(std[indices[f]])"
   ]
  },
  {
   "cell_type": "code",
   "execution_count": 19,
   "metadata": {
    "collapsed": false
   },
   "outputs": [
    {
     "name": "stdout",
     "output_type": "stream",
     "text": [
      "Populating the interactive namespace from numpy and matplotlib\n"
     ]
    },
    {
     "name": "stderr",
     "output_type": "stream",
     "text": [
      "WARNING: pylab import has clobbered these variables: ['indices', 'std', 'random', 'f']\n",
      "`%matplotlib` prevents importing * from pylab and numpy\n"
     ]
    },
    {
     "data": {
      "image/png": "[encoded data removed]",
      "text/plain": [
       "<matplotlib.figure.Figure at 0x1ae86a9ab70>"
      ]
     },
     "metadata": {},
     "output_type": "display_data"
    }
   ],
   "source": [
    "# Plot\n",
    "ind = np.arange(len(feat))\n",
    "width = .75\n",
    "\n",
    "plt.figure(figsize=(20,10))\n",
    "plt.xlabel('n-gram')\n",
    "plt.ylabel('Feature Importance')\n",
    "plt.title('TFIDF Sentiment - Top 20 Features')\n",
    "\n",
    "plt.xticks(ind + width/2., (feat))\n",
    "plt.bar(ind, feat_imp, width, color=\"g\", yerr=feat_std)\n",
    "plt.show()"
   ]
  },
  {
   "cell_type": "code",
   "execution_count": 20,
   "metadata": {
    "collapsed": true
   },
   "outputs": [],
   "source": [
    "del train_data_features\n",
    "del train_labels\n",
    "del importances\n",
    "del vocab\n",
    "del indices\n",
    "#del forest"
   ]
  },
  {
   "cell_type": "markdown",
   "metadata": {},
   "source": [
    "## C. Classification"
   ]
  },
  {
   "cell_type": "code",
   "execution_count": 22,
   "metadata": {
    "collapsed": false,
    "scrolled": false
   },
   "outputs": [
    {
     "name": "stdout",
     "output_type": "stream",
     "text": [
      "Sample review: easy to use a mobile . if you ' re taller than ft , be ready to tuck your legs behind you as you hang and pull .\n",
      "\n",
      "Vectorising ... 1000627 reviews\n",
      "done\n"
     ]
    }
   ],
   "source": [
    "# Testing Data\n",
    "clean_test_reviews = []\n",
    "test_labels = []\n",
    "for f in ['test_good_reviews.txt',\n",
    "          'test_bad_reviews.txt']:\n",
    "    for review in file_to_list(f):\n",
    "        clean_test_reviews.append(utils.to_unicode(review))\n",
    "        if \"good\" in f:\n",
    "            test_labels.append(1)\n",
    "        elif \"bad\" in f:\n",
    "            test_labels.append(0)\n",
    "        else:\n",
    "            raise Exception\n",
    "                   \n",
    "print(\"Sample review: %s\" % clean_test_reviews[0])\n",
    "print(\"Vectorising ... %d reviews\" % len(clean_test_reviews))  \n",
    "\n",
    "# Transform documents to document-term matrix\n",
    "test_data_features = vectorizer.transform(clean_test_reviews)\n",
    "\n",
    "del clean_test_reviews\n",
    "print(\"done\")"
   ]
  },
  {
   "cell_type": "code",
   "execution_count": 34,
   "metadata": {
    "collapsed": false,
    "scrolled": false
   },
   "outputs": [
    {
     "data": {
      "text/plain": [
       "0.93074642199341018"
      ]
     },
     "execution_count": 34,
     "metadata": {},
     "output_type": "execute_result"
    }
   ],
   "source": [
    "# Run classifier\n",
    "classifier_tfidf.score(test_data_features, test_labels) \n",
    "\n",
    "# 50k gives 0.915\n",
    "# 500k gives 0.928\n",
    "# 1mill gives 0.931"
   ]
  },
  {
   "cell_type": "code",
   "execution_count": 23,
   "metadata": {
    "collapsed": false
   },
   "outputs": [
    {
     "data": {
      "text/plain": [
       "0.89869451853687743"
      ]
     },
     "execution_count": 23,
     "metadata": {},
     "output_type": "execute_result"
    }
   ],
   "source": [
    "# By the way, the forest we trained doesn't do so well:\n",
    "forest.score(test_data_features, test_labels) "
   ]
  },
  {
   "cell_type": "code",
   "execution_count": 24,
   "metadata": {
    "collapsed": true
   },
   "outputs": [],
   "source": [
    "del forest"
   ]
  },
  {
   "cell_type": "markdown",
   "metadata": {},
   "source": [
    "## D. Evaluate"
   ]
  },
  {
   "cell_type": "code",
   "execution_count": 35,
   "metadata": {
    "collapsed": true
   },
   "outputs": [],
   "source": [
    "tricky_sentences = [\n",
    "    \"Most movies are rubbish, however this one was good\",\n",
    "    \"This is a product you would love to hate\",\n",
    "    \"Rubbish from start to finish\",\n",
    "    \"I was so happy when this ended\",\n",
    "    \"Very good\",\n",
    "    \"Horrible\"\n",
    "]"
   ]
  },
  {
   "cell_type": "code",
   "execution_count": 36,
   "metadata": {
    "collapsed": false,
    "scrolled": false
   },
   "outputs": [
    {
     "name": "stdout",
     "output_type": "stream",
     "text": [
      "most movies are rubbish , however this one was good\n",
      " [0]\n",
      "this is a product you would love to hate\n",
      " [0]\n",
      "rubbish from start to finish\n",
      " [0]\n",
      "i was so happy when this ended\n",
      " [1]\n",
      "very good\n",
      " [1]\n",
      "horrible\n",
      " [0]\n"
     ]
    }
   ],
   "source": [
    "# Some tests ...\n",
    "def tfidf_sample_sentiment(mystr):\n",
    "    assert isinstance(mystr, str)\n",
    "    test_data_feat = vectorizer.transform([mystr])\n",
    "    pred = classifier_tfidf.predict(test_data_feat)\n",
    "    return pred\n",
    "\n",
    "for x in tricky_sentences:\n",
    "    clean = clean_review(x)\n",
    "    print(clean, tfidf_sample_sentiment(clean))    "
   ]
  },
  {
   "cell_type": "code",
   "execution_count": 37,
   "metadata": {
    "collapsed": true
   },
   "outputs": [],
   "source": [
    "del vectorizer\n",
    "del classifier_tfidf\n",
    "del test_data_features\n",
    "del test_labels"
   ]
  }
 ],
 "metadata": {
  "anaconda-cloud": {},
  "kernelspec": {
   "display_name": "Python [Root]",
   "language": "python",
   "name": "Python [Root]"
  },
  "language_info": {
   "codemirror_mode": {
    "name": "ipython",
    "version": 3
   },
   "file_extension": ".py",
   "mimetype": "text/x-python",
   "name": "python",
   "nbconvert_exporter": "python",
   "pygments_lexer": "ipython3",
   "version": "3.5.2"
  }
 },
 "nbformat": 4,
 "nbformat_minor": 0
}
